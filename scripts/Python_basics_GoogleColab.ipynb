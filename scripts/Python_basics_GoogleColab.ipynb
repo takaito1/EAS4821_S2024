{
  "cells": [
    {
      "cell_type": "markdown",
      "metadata": {
        "id": "C--FmapE-COV"
      },
      "source": [
        "# Python Basics\n",
        "\n",
        "### Originally developed by A. Robel, modified by T. Ito"
      ]
    },
    {
      "cell_type": "markdown",
      "metadata": {
        "id": "S2VpSu8J-COW"
      },
      "source": [
        "This is a Jupyter notebook that takes you through many basic commands and concepts in Python. To execute through this notebook, use up and down arrows to move between cells (highlight in a blue box when you are in them) and then press SHIFT-Enter. Output (if there is any) shows up on under each executed cell."
      ]
    },
    {
      "cell_type": "markdown",
      "metadata": {
        "id": "gM7RTEtT-COW"
      },
      "source": [
        "## Loading packages"
      ]
    },
    {
      "cell_type": "markdown",
      "metadata": {
        "id": "nz11Sdie-COW"
      },
      "source": [
        "One of the big immediate differences of python (compared to MATLAB) is that for much of the functionality that you might use, you must install and load in packages. Google Colab, which you can easily access at [colab.google](https://colab.google) through your browser, has many \"standard\" packages already in its environment. Once you start to do fancier or more non-standard things, you may need to install new packages, which is generally straightforward to do using the \"!pip install\" command at the beginning of your script. For scientific computing and basic plotting, the most useful packages are numpy, matplotlib and scipy. These are all part of the standard google colab environment."
      ]
    },
    {
      "cell_type": "code",
      "execution_count": 1,
      "metadata": {
        "id": "tSrollUh-COX"
      },
      "outputs": [],
      "source": [
        "import numpy as np\n",
        "import matplotlib.pyplot as plt\n",
        "import scipy"
      ]
    },
    {
      "cell_type": "markdown",
      "metadata": {
        "id": "U3LHDLnW-COX"
      },
      "source": [
        "## Executing Commands"
      ]
    },
    {
      "cell_type": "markdown",
      "metadata": {
        "id": "WpZoX4Mm-COX"
      },
      "source": [
        "In normal python code (not a notebook like this) output is automatically supressed. In a notebook all output except the last line of a cell is suppressed. Otherwise, basic arithmetic syntax is the same as MATLAB, except for exponents."
      ]
    },
    {
      "cell_type": "code",
      "execution_count": 2,
      "metadata": {
        "id": "xnZ80Xq8-COX",
        "outputId": "93f9799c-b863-4654-ee9a-b11f550e8147",
        "colab": {
          "base_uri": "https://localhost:8080/"
        }
      },
      "outputs": [
        {
          "output_type": "execute_result",
          "data": {
            "text/plain": [
              "15"
            ]
          },
          "metadata": {},
          "execution_count": 2
        }
      ],
      "source": [
        "3*5"
      ]
    },
    {
      "cell_type": "code",
      "execution_count": 3,
      "metadata": {
        "id": "up5tixP7-COX",
        "outputId": "6e7e1653-8725-49a5-a6ce-c725b34b32a4",
        "colab": {
          "base_uri": "https://localhost:8080/"
        }
      },
      "outputs": [
        {
          "output_type": "execute_result",
          "data": {
            "text/plain": [
              "64"
            ]
          },
          "metadata": {},
          "execution_count": 3
        }
      ],
      "source": [
        "3*5\n",
        "8**2"
      ]
    },
    {
      "cell_type": "markdown",
      "metadata": {
        "id": "0IAHNqDn-COY"
      },
      "source": [
        "## Assign variables and data types"
      ]
    },
    {
      "cell_type": "markdown",
      "metadata": {
        "id": "TNDKEDDK-COY"
      },
      "source": [
        "Python is more strict about data types (particularly numbers) than MATLAB. In MATLAB integers and doubles will often be automatically converted by a function depending on what is needed. In Python, many functions require inputs to be one or the other and will give errors if you are not careful with input type"
      ]
    },
    {
      "cell_type": "code",
      "execution_count": 4,
      "metadata": {
        "id": "MEpaz-On-COY",
        "outputId": "af0b7796-035e-4cff-81ad-4dcd480f8c2e",
        "colab": {
          "base_uri": "https://localhost:8080/"
        }
      },
      "outputs": [
        {
          "output_type": "execute_result",
          "data": {
            "text/plain": [
              "3"
            ]
          },
          "metadata": {},
          "execution_count": 4
        }
      ],
      "source": [
        "a1=3\n",
        "a1"
      ]
    },
    {
      "cell_type": "code",
      "execution_count": 5,
      "metadata": {
        "id": "lyQldrZp-COY",
        "outputId": "a7d664f5-e831-474f-9f8d-76b2faece2ec",
        "colab": {
          "base_uri": "https://localhost:8080/"
        }
      },
      "outputs": [
        {
          "output_type": "execute_result",
          "data": {
            "text/plain": [
              "3.0"
            ]
          },
          "metadata": {},
          "execution_count": 5
        }
      ],
      "source": [
        "a2=3.0\n",
        "a2"
      ]
    },
    {
      "cell_type": "code",
      "execution_count": 6,
      "metadata": {
        "id": "MUeEFMye-COY",
        "outputId": "e4dabe93-4f25-4bb0-f70e-5c896452cb78",
        "colab": {
          "base_uri": "https://localhost:8080/",
          "height": 35
        }
      },
      "outputs": [
        {
          "output_type": "execute_result",
          "data": {
            "text/plain": [
              "'hello'"
            ],
            "application/vnd.google.colaboratory.intrinsic+json": {
              "type": "string"
            }
          },
          "metadata": {},
          "execution_count": 6
        }
      ],
      "source": [
        "a3 = 'hello'\n",
        "a3"
      ]
    },
    {
      "cell_type": "code",
      "execution_count": 7,
      "metadata": {
        "id": "3nGLatt4-COY",
        "outputId": "08b60d60-2303-4440-b992-fc92ce48bc06",
        "colab": {
          "base_uri": "https://localhost:8080/"
        }
      },
      "outputs": [
        {
          "output_type": "execute_result",
          "data": {
            "text/plain": [
              "True"
            ]
          },
          "metadata": {},
          "execution_count": 7
        }
      ],
      "source": [
        "a4 = True #be careful to capitalize logical types in Python\n",
        "a4"
      ]
    },
    {
      "cell_type": "code",
      "execution_count": 8,
      "metadata": {
        "id": "NjWjXE-C-COY",
        "outputId": "f8ac81a4-dceb-4244-e34d-508c35fd1953",
        "colab": {
          "base_uri": "https://localhost:8080/"
        }
      },
      "outputs": [
        {
          "output_type": "execute_result",
          "data": {
            "text/plain": [
              "[1, 5, 9]"
            ]
          },
          "metadata": {},
          "execution_count": 8
        }
      ],
      "source": [
        "a5 = [1,5,9]\n",
        "a5"
      ]
    },
    {
      "cell_type": "markdown",
      "metadata": {
        "id": "V5p34eoL-COY"
      },
      "source": [
        "To do column vector and fancier array algebra, you need to define a numpy array which has more capabilities than the basic Python row vector (called \"list\")"
      ]
    },
    {
      "cell_type": "code",
      "execution_count": 9,
      "metadata": {
        "id": "gJ63DBdO-COY",
        "outputId": "02356112-bf35-49c1-8413-1e176bd098e8",
        "colab": {
          "base_uri": "https://localhost:8080/"
        }
      },
      "outputs": [
        {
          "output_type": "execute_result",
          "data": {
            "text/plain": [
              "array([[2],\n",
              "       [4],\n",
              "       [8]])"
            ]
          },
          "metadata": {},
          "execution_count": 9
        }
      ],
      "source": [
        "a6 = np.array([[2, 4, 8]]).T\n",
        "a6"
      ]
    },
    {
      "cell_type": "code",
      "execution_count": 10,
      "metadata": {
        "id": "l9z7sQXH-COY",
        "outputId": "ddd33be6-aafd-4048-e404-728066dfb0f4",
        "colab": {
          "base_uri": "https://localhost:8080/"
        }
      },
      "outputs": [
        {
          "output_type": "execute_result",
          "data": {
            "text/plain": [
              "array([[1, 8],\n",
              "       [4, 9]])"
            ]
          },
          "metadata": {},
          "execution_count": 10
        }
      ],
      "source": [
        "a7 = np.array([[1, 8], [4, 9]])\n",
        "a7"
      ]
    },
    {
      "cell_type": "markdown",
      "metadata": {
        "id": "T8RnnYgl-COY"
      },
      "source": [
        "## Creating useful vectors/matrices"
      ]
    },
    {
      "cell_type": "markdown",
      "metadata": {
        "id": "g6scmO1q-COY"
      },
      "source": [
        "np.arange is the Python equivalent of the colon in MATLAB. BUT: Python indexing is not inclusive of the ending index (more on indexing in the next section)"
      ]
    },
    {
      "cell_type": "code",
      "execution_count": 11,
      "metadata": {
        "id": "HgF3ZGJP-COY",
        "outputId": "6ddd728d-f977-470e-cb1b-343fa698aa34",
        "colab": {
          "base_uri": "https://localhost:8080/"
        }
      },
      "outputs": [
        {
          "output_type": "execute_result",
          "data": {
            "text/plain": [
              "array([2, 3, 4, 5, 6, 7])"
            ]
          },
          "metadata": {},
          "execution_count": 11
        }
      ],
      "source": [
        "b1 = np.arange(2,8)\n",
        "b1"
      ]
    },
    {
      "cell_type": "code",
      "execution_count": 12,
      "metadata": {
        "id": "raZq6k6u-COZ",
        "outputId": "2c069e16-dff0-41ed-b5e7-928e9ba167fb",
        "colab": {
          "base_uri": "https://localhost:8080/"
        }
      },
      "outputs": [
        {
          "output_type": "execute_result",
          "data": {
            "text/plain": [
              "array([2. , 2.5, 3. , 3.5, 4. , 4.5, 5. , 5.5, 6. , 6.5, 7. , 7.5])"
            ]
          },
          "metadata": {},
          "execution_count": 12
        }
      ],
      "source": [
        "b2 = np.arange(2,8,0.5)\n",
        "b2"
      ]
    },
    {
      "cell_type": "code",
      "execution_count": 13,
      "metadata": {
        "id": "UA8-rktT-COZ",
        "outputId": "c33c0ed6-4a1c-42a9-93f0-4a18f29820e9",
        "colab": {
          "base_uri": "https://localhost:8080/"
        }
      },
      "outputs": [
        {
          "output_type": "execute_result",
          "data": {
            "text/plain": [
              "array([0.4       , 1.26666667, 2.13333333, 3.        , 3.86666667,\n",
              "       4.73333333, 5.6       , 6.46666667, 7.33333333, 8.2       ])"
            ]
          },
          "metadata": {},
          "execution_count": 13
        }
      ],
      "source": [
        "b3 = np.linspace(0.4,8.2,10)\n",
        "b3"
      ]
    },
    {
      "cell_type": "code",
      "execution_count": 14,
      "metadata": {
        "id": "lnByBBBf-COZ",
        "outputId": "094d635e-2291-4846-fd75-f54e1aa04d0e",
        "colab": {
          "base_uri": "https://localhost:8080/"
        }
      },
      "outputs": [
        {
          "output_type": "execute_result",
          "data": {
            "text/plain": [
              "array([[0., 0., 0., 0., 0., 0., 0., 0., 0., 0., 0.],\n",
              "       [0., 0., 0., 0., 0., 0., 0., 0., 0., 0., 0.],\n",
              "       [0., 0., 0., 0., 0., 0., 0., 0., 0., 0., 0.],\n",
              "       [0., 0., 0., 0., 0., 0., 0., 0., 0., 0., 0.],\n",
              "       [0., 0., 0., 0., 0., 0., 0., 0., 0., 0., 0.],\n",
              "       [0., 0., 0., 0., 0., 0., 0., 0., 0., 0., 0.],\n",
              "       [0., 0., 0., 0., 0., 0., 0., 0., 0., 0., 0.],\n",
              "       [0., 0., 0., 0., 0., 0., 0., 0., 0., 0., 0.],\n",
              "       [0., 0., 0., 0., 0., 0., 0., 0., 0., 0., 0.],\n",
              "       [0., 0., 0., 0., 0., 0., 0., 0., 0., 0., 0.]])"
            ]
          },
          "metadata": {},
          "execution_count": 14
        }
      ],
      "source": [
        "b4 = np.zeros([10,11])\n",
        "b4"
      ]
    },
    {
      "cell_type": "code",
      "execution_count": 15,
      "metadata": {
        "id": "kjnIY4Xi-COZ",
        "outputId": "03e786b6-1f67-48dc-9210-acd8c2c91f29",
        "colab": {
          "base_uri": "https://localhost:8080/"
        }
      },
      "outputs": [
        {
          "output_type": "execute_result",
          "data": {
            "text/plain": [
              "array([[1., 1., 1., 1., 1., 1., 1., 1., 1., 1., 1.],\n",
              "       [1., 1., 1., 1., 1., 1., 1., 1., 1., 1., 1.],\n",
              "       [1., 1., 1., 1., 1., 1., 1., 1., 1., 1., 1.],\n",
              "       [1., 1., 1., 1., 1., 1., 1., 1., 1., 1., 1.],\n",
              "       [1., 1., 1., 1., 1., 1., 1., 1., 1., 1., 1.],\n",
              "       [1., 1., 1., 1., 1., 1., 1., 1., 1., 1., 1.],\n",
              "       [1., 1., 1., 1., 1., 1., 1., 1., 1., 1., 1.],\n",
              "       [1., 1., 1., 1., 1., 1., 1., 1., 1., 1., 1.],\n",
              "       [1., 1., 1., 1., 1., 1., 1., 1., 1., 1., 1.],\n",
              "       [1., 1., 1., 1., 1., 1., 1., 1., 1., 1., 1.]])"
            ]
          },
          "metadata": {},
          "execution_count": 15
        }
      ],
      "source": [
        "b5 = np.ones([10,11])\n",
        "b5"
      ]
    },
    {
      "cell_type": "markdown",
      "metadata": {
        "id": "t9tW-vxT-COZ"
      },
      "source": [
        "numpy has some functions that are not imported by default, like those contained in matlib, these need to be imported separately"
      ]
    },
    {
      "cell_type": "code",
      "execution_count": 16,
      "metadata": {
        "id": "4xiik5eO-COZ",
        "outputId": "0651ae40-8a3f-43da-a6cd-d4655970d451",
        "colab": {
          "base_uri": "https://localhost:8080/"
        }
      },
      "outputs": [
        {
          "output_type": "execute_result",
          "data": {
            "text/plain": [
              "array([[2, 3, 4, 5, 6, 7, 2, 3, 4, 5, 6, 7],\n",
              "       [2, 3, 4, 5, 6, 7, 2, 3, 4, 5, 6, 7]])"
            ]
          },
          "metadata": {},
          "execution_count": 16
        }
      ],
      "source": [
        "import numpy.matlib\n",
        "b6 = np.matlib.repmat(b1, 2, 2)\n",
        "b6"
      ]
    },
    {
      "cell_type": "code",
      "execution_count": 17,
      "metadata": {
        "id": "XOFPUJXM-COZ",
        "outputId": "0664106a-4b44-41c5-bbe4-ba6ebb59838f",
        "colab": {
          "base_uri": "https://localhost:8080/"
        }
      },
      "outputs": [
        {
          "output_type": "execute_result",
          "data": {
            "text/plain": [
              "array([[2. , 2. , 2. , 2. , 2. , 2. , 2. , 2. , 2. , 2. ],\n",
              "       [2.5, 2.5, 2.5, 2.5, 2.5, 2.5, 2.5, 2.5, 2.5, 2.5],\n",
              "       [3. , 3. , 3. , 3. , 3. , 3. , 3. , 3. , 3. , 3. ],\n",
              "       [3.5, 3.5, 3.5, 3.5, 3.5, 3.5, 3.5, 3.5, 3.5, 3.5],\n",
              "       [4. , 4. , 4. , 4. , 4. , 4. , 4. , 4. , 4. , 4. ],\n",
              "       [4.5, 4.5, 4.5, 4.5, 4.5, 4.5, 4.5, 4.5, 4.5, 4.5],\n",
              "       [5. , 5. , 5. , 5. , 5. , 5. , 5. , 5. , 5. , 5. ],\n",
              "       [5.5, 5.5, 5.5, 5.5, 5.5, 5.5, 5.5, 5.5, 5.5, 5.5],\n",
              "       [6. , 6. , 6. , 6. , 6. , 6. , 6. , 6. , 6. , 6. ],\n",
              "       [6.5, 6.5, 6.5, 6.5, 6.5, 6.5, 6.5, 6.5, 6.5, 6.5],\n",
              "       [7. , 7. , 7. , 7. , 7. , 7. , 7. , 7. , 7. , 7. ],\n",
              "       [7.5, 7.5, 7.5, 7.5, 7.5, 7.5, 7.5, 7.5, 7.5, 7.5]])"
            ]
          },
          "metadata": {},
          "execution_count": 17
        }
      ],
      "source": [
        "[b7,b8] = np.meshgrid(b2, b3, sparse=False, indexing='ij') #need to specify type of indexing in Python's meshgrid, ij is most common, and the same as matlab\n",
        "b7"
      ]
    },
    {
      "cell_type": "markdown",
      "source": [
        "np.meshgrid supports both indexing conventions through the indexing keyword argument. Giving the string ‘ij’ returns a meshgrid with matrix indexing, while ‘xy’ returns a meshgrid with Cartesian indexing. In the 2-D case with inputs of length M and N, the outputs are of shape (N, M) for ‘xy’ indexing and (M, N) for ‘ij’ indexing. In the 3-D case with inputs of length M, N and P, outputs are of shape (N, M, P) for ‘xy’ indexing and (M, N, P) for ‘ij’ indexing."
      ],
      "metadata": {
        "id": "R8gqbehtBpoQ"
      }
    },
    {
      "cell_type": "markdown",
      "metadata": {
        "id": "gFghXg07-COZ"
      },
      "source": [
        "## Indexing"
      ]
    },
    {
      "cell_type": "markdown",
      "metadata": {
        "id": "efxDB2RF-COZ"
      },
      "source": [
        "Indexing is one of the biggest differences between Python and MATLAB. Python is zero-indexed, which means that the first element of vector or array is indexed as '0'. Also, to reference an index in a Python array one uses square brackets '[]', whereas parenthesis '()' are only used to call functions. There are some other key differences which are explored in examples here"
      ]
    },
    {
      "cell_type": "code",
      "execution_count": 18,
      "metadata": {
        "id": "dZ078eoR-COZ",
        "outputId": "eaddd667-a7a8-4ff8-a136-332ba04dcd86",
        "colab": {
          "base_uri": "https://localhost:8080/"
        }
      },
      "outputs": [
        {
          "output_type": "execute_result",
          "data": {
            "text/plain": [
              "2"
            ]
          },
          "metadata": {},
          "execution_count": 18
        }
      ],
      "source": [
        "c1 = b6[0,0]\n",
        "c1"
      ]
    },
    {
      "cell_type": "code",
      "execution_count": 19,
      "metadata": {
        "id": "UWtClr97-COZ",
        "outputId": "ae3c3399-628a-4271-b3b9-4b029468285e",
        "colab": {
          "base_uri": "https://localhost:8080/"
        }
      },
      "outputs": [
        {
          "output_type": "execute_result",
          "data": {
            "text/plain": [
              "3"
            ]
          },
          "metadata": {},
          "execution_count": 19
        }
      ],
      "source": [
        "c1 = b6[1,1]\n",
        "c1"
      ]
    },
    {
      "cell_type": "markdown",
      "metadata": {
        "id": "dygAQbIu-COZ"
      },
      "source": [
        "Another key difference is that when using vector indexing (i.e. with colons as you would in MATLAB), the indexing goes from the first index, and then up to BUT NOT INCLUDING the end index. So in the below example [0:2] yields a vector index including index 0 and 1, but not 2."
      ]
    },
    {
      "cell_type": "code",
      "execution_count": 20,
      "metadata": {
        "id": "PbXa2wi1-COZ",
        "outputId": "d0ca6459-6b4e-4c17-dcd2-a3e677788868",
        "colab": {
          "base_uri": "https://localhost:8080/"
        }
      },
      "outputs": [
        {
          "output_type": "execute_result",
          "data": {
            "text/plain": [
              "array([2, 2])"
            ]
          },
          "metadata": {},
          "execution_count": 20
        }
      ],
      "source": [
        "c2 = b6[0:2,0]\n",
        "c2"
      ]
    },
    {
      "cell_type": "code",
      "execution_count": 21,
      "metadata": {
        "id": "QF0o2sfG-COZ",
        "outputId": "05bda5fa-44b8-4583-ec27-a200bf67b819",
        "colab": {
          "base_uri": "https://localhost:8080/"
        }
      },
      "outputs": [
        {
          "output_type": "execute_result",
          "data": {
            "text/plain": [
              "array([2, 4, 6])"
            ]
          },
          "metadata": {},
          "execution_count": 21
        }
      ],
      "source": [
        "c2 = b6[0,0:6:2] #note that the increment in a python vector index comes at the end (0:6:2 in this example)\n",
        "c2"
      ]
    },
    {
      "cell_type": "code",
      "execution_count": 22,
      "metadata": {
        "id": "1cclWp4T-COZ",
        "outputId": "92309b56-1244-405a-afaf-a6aa6a24dadc",
        "colab": {
          "base_uri": "https://localhost:8080/"
        }
      },
      "outputs": [
        {
          "output_type": "execute_result",
          "data": {
            "text/plain": [
              "array([[2, 3],\n",
              "       [2, 3]])"
            ]
          },
          "metadata": {},
          "execution_count": 22
        }
      ],
      "source": [
        "c3 = b6[0:2,0:2]\n",
        "c3"
      ]
    },
    {
      "cell_type": "code",
      "execution_count": 23,
      "metadata": {
        "id": "pwfyV-bM-COZ",
        "outputId": "d90f40ef-c4dd-4387-8c6e-eaa758a12bd6",
        "colab": {
          "base_uri": "https://localhost:8080/"
        }
      },
      "outputs": [
        {
          "output_type": "execute_result",
          "data": {
            "text/plain": [
              "7"
            ]
          },
          "metadata": {},
          "execution_count": 23
        }
      ],
      "source": [
        "c4 = b6[0,-1] #-1 is used instead of \"end\" to indicate the last element along a dimension of an array\n",
        "c4"
      ]
    },
    {
      "cell_type": "code",
      "execution_count": 24,
      "metadata": {
        "id": "8DLVKDha-COZ",
        "outputId": "1074f212-79e5-4514-de39-fc3253daafff",
        "colab": {
          "base_uri": "https://localhost:8080/"
        }
      },
      "outputs": [
        {
          "output_type": "execute_result",
          "data": {
            "text/plain": [
              "array([4, 5, 6, 7, 2, 3])"
            ]
          },
          "metadata": {},
          "execution_count": 24
        }
      ],
      "source": [
        "c5 = b6[1,b1]\n",
        "c5"
      ]
    },
    {
      "cell_type": "markdown",
      "metadata": {
        "id": "K36Hwhy8-COh"
      },
      "source": [
        "## Boolean/Logical Operations"
      ]
    },
    {
      "cell_type": "markdown",
      "metadata": {
        "id": "k-UKMIT3-COh"
      },
      "source": [
        "Mostly these work the same as in MATLAB, though booleans are stored as \"True\" and \"False\" indexing is a bit different"
      ]
    },
    {
      "cell_type": "code",
      "execution_count": 25,
      "metadata": {
        "id": "Z1M0aRiL-COh",
        "outputId": "d6a76077-15e9-47b6-9e24-fedd215dcd5a",
        "colab": {
          "base_uri": "https://localhost:8080/"
        }
      },
      "outputs": [
        {
          "output_type": "execute_result",
          "data": {
            "text/plain": [
              "array([ True,  True,  True, False, False, False])"
            ]
          },
          "metadata": {},
          "execution_count": 25
        }
      ],
      "source": [
        "l1 = b1 < 5\n",
        "l1"
      ]
    },
    {
      "cell_type": "code",
      "execution_count": 26,
      "metadata": {
        "id": "EweMBFUx-COh",
        "outputId": "2d914ae8-aeb1-4982-d329-da8686716200",
        "colab": {
          "base_uri": "https://localhost:8080/"
        }
      },
      "outputs": [
        {
          "output_type": "execute_result",
          "data": {
            "text/plain": [
              "array([2, 3, 4])"
            ]
          },
          "metadata": {},
          "execution_count": 26
        }
      ],
      "source": [
        "l2 = b1[l1] #logical indexing mostly works the same as in MATLAB, but only works on numpy arrays\n",
        "l2"
      ]
    },
    {
      "cell_type": "markdown",
      "metadata": {
        "id": "NYSJIJwN-COh"
      },
      "source": [
        "As we will also see for loops below, conditional statements (if/else) do not have end like in MATLAB, BUT INDENTATION IS IMPORTANT AND ENFORCED IN PYTHON (compared to MATLAB where indentation does not play a role in code execution)"
      ]
    },
    {
      "cell_type": "code",
      "execution_count": 27,
      "metadata": {
        "id": "_y7emesi-COh",
        "outputId": "50a6cd7f-c28b-4af0-a016-fb75f24740b2",
        "colab": {
          "base_uri": "https://localhost:8080/"
        }
      },
      "outputs": [
        {
          "output_type": "stream",
          "name": "stdout",
          "text": [
            "oh no!\n"
          ]
        }
      ],
      "source": [
        "if c1>5 : #use a colon to indicate the end of the logical condition\n",
        "    print('hurray!')\n",
        "elif c1<0 : #elif instead of else if\n",
        "    print('sure...')\n",
        "else :\n",
        "    print('oh no!')"
      ]
    },
    {
      "cell_type": "code",
      "execution_count": 28,
      "metadata": {
        "id": "Al0Q9bNT-COi",
        "outputId": "723834bc-0880-4ce2-a502-5ec869a9e32e",
        "colab": {
          "base_uri": "https://localhost:8080/"
        }
      },
      "outputs": [
        {
          "output_type": "execute_result",
          "data": {
            "text/plain": [
              "array([False,  True,  True, False, False, False])"
            ]
          },
          "metadata": {},
          "execution_count": 28
        }
      ],
      "source": [
        "l3 = (b1 < 5) & (b1 > 2)\n",
        "l3"
      ]
    },
    {
      "cell_type": "code",
      "execution_count": 29,
      "metadata": {
        "id": "rU8HiZX--COi",
        "outputId": "5eea77ed-4091-491c-f509-ede066c37f57",
        "colab": {
          "base_uri": "https://localhost:8080/"
        }
      },
      "outputs": [
        {
          "output_type": "execute_result",
          "data": {
            "text/plain": [
              "array([False, False, False, False,  True,  True])"
            ]
          },
          "metadata": {},
          "execution_count": 29
        }
      ],
      "source": [
        "l4 = (b1 > 5) | (b1 < 2)\n",
        "l4"
      ]
    },
    {
      "cell_type": "markdown",
      "metadata": {
        "id": "cloJGe2j-COi"
      },
      "source": [
        "## Vector and matrix manipulation and arithmetic"
      ]
    },
    {
      "cell_type": "code",
      "execution_count": 30,
      "metadata": {
        "id": "_UoR5GpF-COi",
        "outputId": "6b13ed54-24cc-4026-e8b6-3785ea0cc638",
        "colab": {
          "base_uri": "https://localhost:8080/"
        }
      },
      "outputs": [
        {
          "output_type": "execute_result",
          "data": {
            "text/plain": [
              "array([[2, 2],\n",
              "       [3, 3],\n",
              "       [4, 4],\n",
              "       [5, 5],\n",
              "       [6, 6],\n",
              "       [7, 7],\n",
              "       [2, 2],\n",
              "       [3, 3],\n",
              "       [4, 4],\n",
              "       [5, 5],\n",
              "       [6, 6],\n",
              "       [7, 7]])"
            ]
          },
          "metadata": {},
          "execution_count": 30
        }
      ],
      "source": [
        "d1 = b6.transpose()\n",
        "d1"
      ]
    },
    {
      "cell_type": "code",
      "execution_count": 31,
      "metadata": {
        "id": "QlGFl_OG-COi",
        "outputId": "87d2613a-f17e-4177-edbd-09bb3003bf32",
        "colab": {
          "base_uri": "https://localhost:8080/"
        }
      },
      "outputs": [
        {
          "output_type": "execute_result",
          "data": {
            "text/plain": [
              "108"
            ]
          },
          "metadata": {},
          "execution_count": 31
        }
      ],
      "source": [
        "d2 = np.sum(b6,axis=None)\n",
        "d2"
      ]
    },
    {
      "cell_type": "code",
      "execution_count": 32,
      "metadata": {
        "id": "fUMMCDgR-COi",
        "outputId": "c66a74bc-6060-451f-9b47-35d3ecf8b451",
        "colab": {
          "base_uri": "https://localhost:8080/"
        }
      },
      "outputs": [
        {
          "output_type": "execute_result",
          "data": {
            "text/plain": [
              "array([ 4,  6,  8, 10, 12, 14,  4,  6,  8, 10, 12, 14])"
            ]
          },
          "metadata": {},
          "execution_count": 32
        }
      ],
      "source": [
        "d3 = np.sum(b6,axis=0)\n",
        "d3"
      ]
    },
    {
      "cell_type": "code",
      "execution_count": 33,
      "metadata": {
        "id": "-vscxnfW-COi",
        "outputId": "445e07b5-7ff1-4ce3-b6ee-cbca4457bcda",
        "colab": {
          "base_uri": "https://localhost:8080/"
        }
      },
      "outputs": [
        {
          "output_type": "execute_result",
          "data": {
            "text/plain": [
              "array([[1.52489736, 0.4055138 , 2.53347072, 0.2903546 , 3.12124439,\n",
              "        5.86851495, 0.56272219, 2.14681663, 2.62668113, 0.89055499,\n",
              "        5.12432041, 1.8390261 ],\n",
              "       [0.59266377, 2.21955199, 2.59711824, 0.70584204, 5.7035429 ,\n",
              "        5.14684222, 0.56634364, 1.40041265, 1.53842162, 0.75618331,\n",
              "        2.45612627, 3.21442512]])"
            ]
          },
          "metadata": {},
          "execution_count": 33
        }
      ],
      "source": [
        "d4a = np.random.rand(2,12)\n",
        "d4 = b6*d4a #note the default in Python is elementwise multiplication with *\n",
        "d4"
      ]
    },
    {
      "cell_type": "code",
      "execution_count": 34,
      "metadata": {
        "id": "9VocTETb-COi",
        "outputId": "309c2774-4e09-4c10-c20a-fcdfa2701346",
        "colab": {
          "base_uri": "https://localhost:8080/"
        }
      },
      "outputs": [
        {
          "output_type": "execute_result",
          "data": {
            "text/plain": [
              "array([[35.75176758, 33.13239755],\n",
              "       [35.75176758, 33.13239755]])"
            ]
          },
          "metadata": {},
          "execution_count": 34
        }
      ],
      "source": [
        "d5a = np.random.rand(12,2)\n",
        "d5 = b6 @ d5a #for matrix multiplication use @\n",
        "d5"
      ]
    },
    {
      "cell_type": "code",
      "execution_count": 35,
      "metadata": {
        "id": "YX-IYOR4-COi",
        "outputId": "d69dc4dc-09d1-415e-ab22-2331592ee1e9",
        "colab": {
          "base_uri": "https://localhost:8080/"
        }
      },
      "outputs": [
        {
          "output_type": "execute_result",
          "data": {
            "text/plain": [
              "(array([[-3.84648446e-04],\n",
              "        [ 8.88414090e-01],\n",
              "        [-2.22090164e-02]]),\n",
              " array([], dtype=float64),\n",
              " 3,\n",
              " array([1.64706473, 0.76411404, 0.33104666]))"
            ]
          },
          "metadata": {},
          "execution_count": 35
        }
      ],
      "source": [
        "d6a = np.random.rand(3,3)\n",
        "d6b = np.random.rand(3,1)\n",
        "x = np.linalg.lstsq(d6a,d6b,rcond=None)\n",
        "x"
      ]
    },
    {
      "cell_type": "markdown",
      "metadata": {
        "id": "YdK4tdWa-COi"
      },
      "source": [
        "## Loops"
      ]
    },
    {
      "cell_type": "code",
      "execution_count": 36,
      "metadata": {
        "id": "9tMod9rc-COi",
        "outputId": "65ffa539-fa0a-4640-9dcb-56a71d0c9cb1",
        "colab": {
          "base_uri": "https://localhost:8080/"
        }
      },
      "outputs": [
        {
          "output_type": "execute_result",
          "data": {
            "text/plain": [
              "246.86666666666667"
            ]
          },
          "metadata": {},
          "execution_count": 36
        }
      ],
      "source": [
        "e1=0\n",
        "for i in np.arange(0,10) :   #for loop iterates over the vector i (from 0 to 9) with defined boundaries\n",
        "    e1 = e1 + (b3[i]**2)\n",
        "e1"
      ]
    },
    {
      "cell_type": "code",
      "execution_count": 37,
      "metadata": {
        "id": "SyHKzX8u-COi",
        "outputId": "6b22e46b-a8c4-476d-cffe-baac64a537ba",
        "colab": {
          "base_uri": "https://localhost:8080/"
        }
      },
      "outputs": [
        {
          "output_type": "execute_result",
          "data": {
            "text/plain": [
              "246.86666666666667"
            ]
          },
          "metadata": {},
          "execution_count": 37
        }
      ],
      "source": [
        "e2 = np.sum(b3**2)\n",
        "e2"
      ]
    },
    {
      "cell_type": "code",
      "execution_count": 38,
      "metadata": {
        "id": "NEUr4jAZ-COi",
        "outputId": "9f65b332-3c34-4367-9255-41daf7455dde",
        "colab": {
          "base_uri": "https://localhost:8080/"
        }
      },
      "outputs": [
        {
          "output_type": "execute_result",
          "data": {
            "text/plain": [
              "10.080000000000007"
            ]
          },
          "metadata": {},
          "execution_count": 38
        }
      ],
      "source": [
        "e3=0\n",
        "i=0\n",
        "while e3 < 10 :   #while loop iterates indeinfitely while a logical operation is still true\n",
        "    e3=e3 + (b3[i]**2)\n",
        "e3"
      ]
    },
    {
      "cell_type": "markdown",
      "metadata": {
        "id": "yrUu-lLz-COi"
      },
      "source": [
        "## Functions"
      ]
    },
    {
      "cell_type": "markdown",
      "metadata": {
        "id": "7lqy8bVU-COi"
      },
      "source": [
        "Lambda functions are used to anonymously define a function inline in Python. Otherwise, they must be defined using def, a colon and indenting"
      ]
    },
    {
      "cell_type": "code",
      "execution_count": 39,
      "metadata": {
        "id": "GaBQY58G-COi"
      },
      "outputs": [],
      "source": [
        "fcn = lambda x: np.exp(np.sin(x)**2) #lambda anonymous function"
      ]
    },
    {
      "cell_type": "code",
      "execution_count": 40,
      "metadata": {
        "id": "UXzS0yHk-COi"
      },
      "outputs": [],
      "source": [
        "def fcn2(x):\n",
        "    return np.exp(np.sin(x)**2)"
      ]
    },
    {
      "cell_type": "code",
      "execution_count": 41,
      "metadata": {
        "id": "7Y0jpSNX-COi",
        "outputId": "0a2673e0-2080-4b7c-b249-d4dcb3afedea",
        "colab": {
          "base_uri": "https://localhost:8080/"
        }
      },
      "outputs": [
        {
          "output_type": "execute_result",
          "data": {
            "text/plain": [
              "2.0300763806332567"
            ]
          },
          "metadata": {},
          "execution_count": 41
        }
      ],
      "source": [
        "fcn(1)"
      ]
    },
    {
      "cell_type": "markdown",
      "metadata": {
        "id": "QWMwHuUn-COi"
      },
      "source": [
        "## Plotting"
      ]
    },
    {
      "cell_type": "code",
      "execution_count": 42,
      "metadata": {
        "id": "bjt_St-A-COi",
        "outputId": "ca562cb1-adb8-400f-e79c-f2110f047dcf",
        "colab": {
          "base_uri": "https://localhost:8080/",
          "height": 430
        }
      },
      "outputs": [
        {
          "output_type": "display_data",
          "data": {
            "text/plain": [
              "<Figure size 640x480 with 1 Axes>"
            ],
            "image/png": "[encoded data removed]"
          },
          "metadata": {}
        }
      ],
      "source": [
        "f1=b2**2\n",
        "plt.plot(b2,f1)\n",
        "plt.show()"
      ]
    },
    {
      "cell_type": "code",
      "execution_count": 43,
      "metadata": {
        "id": "xuaoRaK1-COj",
        "outputId": "549d2ee0-76db-460d-c645-b93961c8260d",
        "colab": {
          "base_uri": "https://localhost:8080/",
          "height": 482
        }
      },
      "outputs": [
        {
          "output_type": "display_data",
          "data": {
            "text/plain": [
              "<Figure size 640x480 with 1 Axes>"
            ],
            "image/png": "[encoded data removed]"
          },
          "metadata": {}
        }
      ],
      "source": [
        "plt.plot(b2, b2**2, 'o', color='green',label = \"line 1\")\n",
        "# plotting the line 2 points\n",
        "plt.plot(b2, b2**3, 'o', color='red',label = \"line 2\")\n",
        "plt.xlabel('x - axis',fontsize=18)\n",
        "# Set the y axis label of the current axis.\n",
        "plt.ylabel('y - axis',fontsize=18)\n",
        "# Set a title of the current axes.\n",
        "plt.title('Two or more lines on same plot with suitable legends ')\n",
        "# show a legend on the plot\n",
        "plt.legend()\n",
        "# Display a figure.\n",
        "plt.show()"
      ]
    },
    {
      "cell_type": "code",
      "execution_count": 44,
      "metadata": {
        "id": "Y8dmUj_K-COj",
        "outputId": "363c04bf-3ee6-421e-a191-d911004cb005",
        "colab": {
          "base_uri": "https://localhost:8080/",
          "height": 512
        }
      },
      "outputs": [
        {
          "output_type": "execute_result",
          "data": {
            "text/plain": [
              "Text(0.5, 1.0, 'F3(B2,B3)')"
            ]
          },
          "metadata": {},
          "execution_count": 44
        },
        {
          "output_type": "display_data",
          "data": {
            "text/plain": [
              "<Figure size 640x480 with 1 Axes>"
            ],
            "image/png": "[encoded data removed]"
          },
          "metadata": {}
        }
      ],
      "source": [
        "[B2,B3] = np.meshgrid(b2,b3)\n",
        "F3 = np.sin(B2) + np.exp(-(B3-4)**2)\n",
        "plt.contour(B2,B3,F3)\n",
        "plt.colorbar\n",
        "plt.xlabel('B2',fontsize=20)\n",
        "plt.ylabel('B3',fontsize=20)\n",
        "plt.title('F3(B2,B3)',fontsize=20)"
      ]
    },
    {
      "cell_type": "code",
      "execution_count": 45,
      "metadata": {
        "id": "F4j2EPWh-COj",
        "outputId": "27c0db51-8e59-45d6-db0a-110148d9e527",
        "colab": {
          "base_uri": "https://localhost:8080/",
          "height": 512
        }
      },
      "outputs": [
        {
          "output_type": "execute_result",
          "data": {
            "text/plain": [
              "<matplotlib.colorbar.Colorbar at 0x7d2968bf75b0>"
            ]
          },
          "metadata": {},
          "execution_count": 45
        },
        {
          "output_type": "display_data",
          "data": {
            "text/plain": [
              "<Figure size 640x480 with 2 Axes>"
            ],
            "image/png": "[encoded data removed]"
          },
          "metadata": {}
        }
      ],
      "source": [
        "plt.contourf(B2,B3,F3)\n",
        "plt.colorbar\n",
        "plt.xlabel('B2',fontsize=20)\n",
        "plt.ylabel('B3',fontsize=20)\n",
        "plt.title('F3(B2,B3)',fontsize=20)\n",
        "plt.colorbar()"
      ]
    },
    {
      "cell_type": "code",
      "execution_count": 46,
      "metadata": {
        "id": "bjheh-4x-COj",
        "outputId": "88e653ff-aca1-4eea-cfee-087d3f6074a4",
        "colab": {
          "base_uri": "https://localhost:8080/",
          "height": 512
        }
      },
      "outputs": [
        {
          "output_type": "execute_result",
          "data": {
            "text/plain": [
              "<matplotlib.colorbar.Colorbar at 0x7d29681276a0>"
            ]
          },
          "metadata": {},
          "execution_count": 46
        },
        {
          "output_type": "display_data",
          "data": {
            "text/plain": [
              "<Figure size 640x480 with 2 Axes>"
            ],
            "image/png": "[encoded data removed]"
          },
          "metadata": {}
        }
      ],
      "source": [
        "plt.pcolor(B2,B3,F3)\n",
        "plt.colorbar\n",
        "plt.xlabel('B2',fontsize=20)\n",
        "plt.ylabel('B3',fontsize=20)\n",
        "plt.title('F3(B2,B3)',fontsize=20)\n",
        "plt.colorbar()"
      ]
    },
    {
      "cell_type": "code",
      "execution_count": 47,
      "metadata": {
        "id": "_v0IXcn3-COj",
        "outputId": "b493e282-ecda-4596-d77a-2bfbc0b3659a",
        "colab": {
          "base_uri": "https://localhost:8080/",
          "height": 458
        }
      },
      "outputs": [
        {
          "output_type": "execute_result",
          "data": {
            "text/plain": [
              "Text(0.5, 0.92, 'F3(B2,B3)')"
            ]
          },
          "metadata": {},
          "execution_count": 47
        },
        {
          "output_type": "display_data",
          "data": {
            "text/plain": [
              "<Figure size 640x480 with 1 Axes>"
            ],
            "image/png": "[encoded data removed]"
          },
          "metadata": {}
        }
      ],
      "source": [
        "ax = plt.axes(projection='3d')\n",
        "ax.plot_surface(B2,B3,F3, rstride=1, cstride=1,cmap='viridis', edgecolor='none')\n",
        "ax.set_title('surface');\n",
        "plt.colorbar\n",
        "plt.xlabel('B2',fontsize=20)\n",
        "plt.ylabel('B3',fontsize=20)\n",
        "plt.title('F3(B2,B3)',fontsize=20)"
      ]
    },
    {
      "cell_type": "markdown",
      "metadata": {
        "id": "6Zvrn0PP-COj"
      },
      "source": [
        "## Saving/Loading"
      ]
    },
    {
      "cell_type": "markdown",
      "metadata": {
        "id": "uRwZg69U-COj"
      },
      "source": [
        "Python does not have a built-in compressed format like MATLAB, but its works with a much wider range of data types (saving/loading) and has certain commonly-used data formats like pickles, pandas for spreadsheet-like data, and xarray for gridded data in netCDF format. Here, I show simple example using np.save and np.load"
      ]
    },
    {
      "cell_type": "code",
      "source": [
        "# save the array b6 in to the file \"datafile_name.npy\"\n",
        "np.save('datafile_name.npy',b6)"
      ],
      "metadata": {
        "id": "ABp19pdkGVU0"
      },
      "execution_count": 48,
      "outputs": []
    },
    {
      "cell_type": "code",
      "source": [
        "# read theh data from \"datafile_name.npy\" and assign to the variable \"b6_from_file\"\n",
        "b6_from_file = np.load('datafile_name.npy')\n",
        "b6_from_file"
      ],
      "metadata": {
        "colab": {
          "base_uri": "https://localhost:8080/"
        },
        "id": "YX9IHm61G7PQ",
        "outputId": "02993e00-4a09-4faf-c547-fac0b350c533"
      },
      "execution_count": 49,
      "outputs": [
        {
          "output_type": "execute_result",
          "data": {
            "text/plain": [
              "array([[2, 3, 4, 5, 6, 7, 2, 3, 4, 5, 6, 7],\n",
              "       [2, 3, 4, 5, 6, 7, 2, 3, 4, 5, 6, 7]])"
            ]
          },
          "metadata": {},
          "execution_count": 49
        }
      ]
    },
    {
      "cell_type": "code",
      "source": [
        "# save the array b1, b2, and b6 in to the file \"datafile_multi.npz\"\n",
        "np.savez('datafile_multi.npz',b1=b1,b2=b2,b6=b6)"
      ],
      "metadata": {
        "id": "0oSLkC7GHTke"
      },
      "execution_count": 50,
      "outputs": []
    },
    {
      "cell_type": "code",
      "source": [
        "dataset = np.load('datafile_multi.npz')\n",
        "dataset['b6']"
      ],
      "metadata": {
        "colab": {
          "base_uri": "https://localhost:8080/"
        },
        "id": "v2VbBw0tHydl",
        "outputId": "f6a2b870-eebc-4e62-d93b-9892972e64aa"
      },
      "execution_count": 51,
      "outputs": [
        {
          "output_type": "execute_result",
          "data": {
            "text/plain": [
              "array([[2, 3, 4, 5, 6, 7, 2, 3, 4, 5, 6, 7],\n",
              "       [2, 3, 4, 5, 6, 7, 2, 3, 4, 5, 6, 7]])"
            ]
          },
          "metadata": {},
          "execution_count": 51
        }
      ]
    },
    {
      "cell_type": "code",
      "source": [],
      "metadata": {
        "id": "jXNRuih0H0fR"
      },
      "execution_count": 51,
      "outputs": []
    }
  ],
  "metadata": {
    "kernelspec": {
      "display_name": "Python 3",
      "language": "python",
      "name": "python3"
    },
    "language_info": {
      "codemirror_mode": {
        "name": "ipython",
        "version": 3
      },
      "file_extension": ".py",
      "mimetype": "text/x-python",
      "name": "python",
      "nbconvert_exporter": "python",
      "pygments_lexer": "ipython3",
      "version": "3.7.3"
    },
    "colab": {
      "provenance": []
    }
  },
  "nbformat": 4,
  "nbformat_minor": 0
}