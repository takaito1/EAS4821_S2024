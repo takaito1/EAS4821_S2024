{
 "cells": [
  {
   "cell_type": "markdown",
   "id": "a9570151",
   "metadata": {},
   "source": [
    "# Intro to data processing using Pandas\n",
    "\n",
    "### EAS2655"
   ]
  },
  {
   "cell_type": "markdown",
   "id": "0302acfb",
   "metadata": {},
   "source": [
    "Most of the exciting developments in seamless data analysis, particularly for large Earth Science datasets are happening in python. In recent years, robust and open ecosystems have been developed around tools like xarray and Pandas which make it very easy to load in large data sets, manipulate them in various ways and produce beautiful plots. This notebook will serve as a basic overview of Pandas/Geopandas packages. Most of this notebook is based on [Project Pythia by Brian Rose](https://foundations.projectpythia.org/) and the [Earth and Environmental Data Science Course](https://earth-env-data-science.github.io/). If you'd like to learn more, the tutorials at the above link are highly recommended."
   ]
  },
  {
   "cell_type": "code",
   "execution_count": 1,
   "id": "ad4abfd3",
   "metadata": {},
   "outputs": [],
   "source": [
    "from datetime import timedelta\n",
    "\n",
    "import numpy as np\n",
    "import pandas as pd\n",
    "from matplotlib import pyplot as plt"
   ]
  },
  {
   "cell_type": "markdown",
   "id": "0c3fd55f",
   "metadata": {},
   "source": [
    "## Pandas"
   ]
  },
  {
   "cell_type": "markdown",
   "id": "fe4043ed",
   "metadata": {},
   "source": [
    "Pandas is a very powerful library for working with tabular data (e.g., spreadsheets, comma-separated-value files, or database printouts; all of these are quite common for geoscientific data). It allows us to use labels for our data; this, in turn, allows us to write expressive and robust code to manipulate the data.\n",
    "\n",
    "Key features of Pandas are the abilities to read in tabular data and to slice and dice data, as well as exploratory analysis tools native to the library. "
   ]
  },
  {
   "cell_type": "markdown",
   "id": "262a4659",
   "metadata": {},
   "source": [
    "A Series represents a one-dimensional array of data. The main difference between a Series and numpy array is that a Series has an index. The index contains the labels that we use to access the data."
   ]
  },
  {
   "cell_type": "code",
   "execution_count": 2,
   "id": "872dc429",
   "metadata": {},
   "outputs": [
    {
     "data": {
      "text/plain": [
       "Mercury    3.000000e+23\n",
       "Venus      4.870000e+24\n",
       "Earth      5.970000e+24\n",
       "dtype: float64"
      ]
     },
     "execution_count": 2,
     "metadata": {},
     "output_type": "execute_result"
    }
   ],
   "source": [
    "names = ['Mercury', 'Venus', 'Earth']\n",
    "values = [0.3e24, 4.87e24, 5.97e24]\n",
    "masses = pd.Series(values, index=names)\n",
    "masses"
   ]
  },
  {
   "cell_type": "markdown",
   "id": "47539444",
   "metadata": {},
   "source": [
    "- Pandas series have built-in plotting methods"
   ]
  },
  {
   "cell_type": "code",
   "execution_count": 3,
   "id": "5d5cc030",
   "metadata": {},
   "outputs": [
    {
     "data": {
      "image/png": "[encoded data removed]",
      "text/plain": [
       "<Figure size 640x480 with 1 Axes>"
      ]
     },
     "metadata": {},
     "output_type": "display_data"
    }
   ],
   "source": [
    "masses.plot(kind='bar')\n",
    "plt.show()"
   ]
  },
  {
   "cell_type": "markdown",
   "id": "0a54906f",
   "metadata": {},
   "source": [
    "- Arithmetic operations and most numpy function can be applied to Series. An important point is that the Series keep their index during such operations."
   ]
  },
  {
   "cell_type": "code",
   "execution_count": 4,
   "id": "3c8d9149",
   "metadata": {},
   "outputs": [
    {
     "data": {
      "text/plain": [
       "Mercury    6.006452e-46\n",
       "Venus      2.396820e-48\n",
       "Earth      1.600655e-48\n",
       "dtype: float64"
      ]
     },
     "execution_count": 4,
     "metadata": {},
     "output_type": "execute_result"
    }
   ],
   "source": [
    "np.log(masses) / masses**2"
   ]
  },
  {
   "cell_type": "markdown",
   "id": "8d29bce3",
   "metadata": {},
   "source": [
    "- We can index the series using strings, which is very handy"
   ]
  },
  {
   "cell_type": "code",
   "execution_count": 5,
   "id": "22039a65",
   "metadata": {},
   "outputs": [
    {
     "data": {
      "text/plain": [
       "5.97e+24"
      ]
     },
     "execution_count": 5,
     "metadata": {},
     "output_type": "execute_result"
    }
   ],
   "source": [
    "masses.loc['Earth']"
   ]
  },
  {
   "cell_type": "code",
   "execution_count": 6,
   "id": "db492501",
   "metadata": {},
   "outputs": [
    {
     "data": {
      "text/plain": [
       "Venus    4.870000e+24\n",
       "Earth    5.970000e+24\n",
       "dtype: float64"
      ]
     },
     "execution_count": 6,
     "metadata": {},
     "output_type": "execute_result"
    }
   ],
   "source": [
    "masses.loc[['Venus', 'Earth']]"
   ]
  },
  {
   "cell_type": "code",
   "execution_count": 7,
   "id": "7a4316e5",
   "metadata": {},
   "outputs": [
    {
     "data": {
      "text/plain": [
       "Mercury    3.000000e+23\n",
       "Venus      4.870000e+24\n",
       "Earth      5.970000e+24\n",
       "dtype: float64"
      ]
     },
     "execution_count": 7,
     "metadata": {},
     "output_type": "execute_result"
    }
   ],
   "source": [
    "masses.loc['Mercury':'Earth'] #slicing"
   ]
  },
  {
   "cell_type": "markdown",
   "id": "c5d03605",
   "metadata": {},
   "source": [
    "- There is a lot more to Series, but they are limit to a single “column”. A more useful Pandas data structure is the DataFrame. A DataFrame is basically a bunch of series that share the same index. It’s a lot like a table in a spreadsheet."
   ]
  },
  {
   "cell_type": "code",
   "execution_count": 8,
   "id": "cf80036a",
   "metadata": {},
   "outputs": [
    {
     "data": {
      "text/html": [
       "<div>\n",
       "<style scoped>\n",
       "    .dataframe tbody tr th:only-of-type {\n",
       "        vertical-align: middle;\n",
       "    }\n",
       "\n",
       "    .dataframe tbody tr th {\n",
       "        vertical-align: top;\n",
       "    }\n",
       "\n",
       "    .dataframe thead th {\n",
       "        text-align: right;\n",
       "    }\n",
       "</style>\n",
       "<table border=\"1\" class=\"dataframe\">\n",
       "  <thead>\n",
       "    <tr style=\"text-align: right;\">\n",
       "      <th></th>\n",
       "      <th>mass</th>\n",
       "      <th>diameter</th>\n",
       "      <th>rotation_period</th>\n",
       "    </tr>\n",
       "  </thead>\n",
       "  <tbody>\n",
       "    <tr>\n",
       "      <th>Mercury</th>\n",
       "      <td>3.000000e+23</td>\n",
       "      <td>4879000.0</td>\n",
       "      <td>1407.6</td>\n",
       "    </tr>\n",
       "    <tr>\n",
       "      <th>Venus</th>\n",
       "      <td>4.870000e+24</td>\n",
       "      <td>12104000.0</td>\n",
       "      <td>NaN</td>\n",
       "    </tr>\n",
       "    <tr>\n",
       "      <th>Earth</th>\n",
       "      <td>5.970000e+24</td>\n",
       "      <td>12756000.0</td>\n",
       "      <td>23.9</td>\n",
       "    </tr>\n",
       "  </tbody>\n",
       "</table>\n",
       "</div>"
      ],
      "text/plain": [
       "                 mass    diameter  rotation_period\n",
       "Mercury  3.000000e+23   4879000.0           1407.6\n",
       "Venus    4.870000e+24  12104000.0              NaN\n",
       "Earth    5.970000e+24  12756000.0             23.9"
      ]
     },
     "execution_count": 8,
     "metadata": {},
     "output_type": "execute_result"
    }
   ],
   "source": [
    "# first we create a dictionary\n",
    "data = {'mass': [0.3e24, 4.87e24, 5.97e24],       # kg\n",
    "        'diameter': [4879e3, 12_104e3, 12_756e3], # m\n",
    "        'rotation_period': [1407.6, np.nan, 23.9] # h\n",
    "       }\n",
    "df = pd.DataFrame(data, index=['Mercury', 'Venus', 'Earth'])\n",
    "df"
   ]
  },
  {
   "cell_type": "markdown",
   "id": "02eedd21",
   "metadata": {},
   "source": [
    "- We can do many different arithmetic or statistical operations on a DataFrame"
   ]
  },
  {
   "cell_type": "code",
   "execution_count": 9,
   "id": "3df61ca6",
   "metadata": {},
   "outputs": [
    {
     "data": {
      "text/plain": [
       "mass               3.000000e+23\n",
       "diameter           4.879000e+06\n",
       "rotation_period    2.390000e+01\n",
       "dtype: float64"
      ]
     },
     "execution_count": 9,
     "metadata": {},
     "output_type": "execute_result"
    }
   ],
   "source": [
    "df.min()"
   ]
  },
  {
   "cell_type": "code",
   "execution_count": 10,
   "id": "6080d8e9",
   "metadata": {},
   "outputs": [
    {
     "data": {
      "text/plain": [
       "mass               3.713333e+24\n",
       "diameter           9.913000e+06\n",
       "rotation_period    7.157500e+02\n",
       "dtype: float64"
      ]
     },
     "execution_count": 10,
     "metadata": {},
     "output_type": "execute_result"
    }
   ],
   "source": [
    "df.mean()"
   ]
  },
  {
   "cell_type": "code",
   "execution_count": 11,
   "id": "9287ee6d",
   "metadata": {},
   "outputs": [
    {
     "data": {
      "text/html": [
       "<div>\n",
       "<style scoped>\n",
       "    .dataframe tbody tr th:only-of-type {\n",
       "        vertical-align: middle;\n",
       "    }\n",
       "\n",
       "    .dataframe tbody tr th {\n",
       "        vertical-align: top;\n",
       "    }\n",
       "\n",
       "    .dataframe thead th {\n",
       "        text-align: right;\n",
       "    }\n",
       "</style>\n",
       "<table border=\"1\" class=\"dataframe\">\n",
       "  <thead>\n",
       "    <tr style=\"text-align: right;\">\n",
       "      <th></th>\n",
       "      <th>mass</th>\n",
       "      <th>diameter</th>\n",
       "      <th>rotation_period</th>\n",
       "    </tr>\n",
       "  </thead>\n",
       "  <tbody>\n",
       "    <tr>\n",
       "      <th>count</th>\n",
       "      <td>3.000000e+00</td>\n",
       "      <td>3.000000e+00</td>\n",
       "      <td>2.000000</td>\n",
       "    </tr>\n",
       "    <tr>\n",
       "      <th>mean</th>\n",
       "      <td>3.713333e+24</td>\n",
       "      <td>9.913000e+06</td>\n",
       "      <td>715.750000</td>\n",
       "    </tr>\n",
       "    <tr>\n",
       "      <th>std</th>\n",
       "      <td>3.006765e+24</td>\n",
       "      <td>4.371744e+06</td>\n",
       "      <td>978.423653</td>\n",
       "    </tr>\n",
       "    <tr>\n",
       "      <th>min</th>\n",
       "      <td>3.000000e+23</td>\n",
       "      <td>4.879000e+06</td>\n",
       "      <td>23.900000</td>\n",
       "    </tr>\n",
       "    <tr>\n",
       "      <th>25%</th>\n",
       "      <td>2.585000e+24</td>\n",
       "      <td>8.491500e+06</td>\n",
       "      <td>369.825000</td>\n",
       "    </tr>\n",
       "    <tr>\n",
       "      <th>50%</th>\n",
       "      <td>4.870000e+24</td>\n",
       "      <td>1.210400e+07</td>\n",
       "      <td>715.750000</td>\n",
       "    </tr>\n",
       "    <tr>\n",
       "      <th>75%</th>\n",
       "      <td>5.420000e+24</td>\n",
       "      <td>1.243000e+07</td>\n",
       "      <td>1061.675000</td>\n",
       "    </tr>\n",
       "    <tr>\n",
       "      <th>max</th>\n",
       "      <td>5.970000e+24</td>\n",
       "      <td>1.275600e+07</td>\n",
       "      <td>1407.600000</td>\n",
       "    </tr>\n",
       "  </tbody>\n",
       "</table>\n",
       "</div>"
      ],
      "text/plain": [
       "               mass      diameter  rotation_period\n",
       "count  3.000000e+00  3.000000e+00         2.000000\n",
       "mean   3.713333e+24  9.913000e+06       715.750000\n",
       "std    3.006765e+24  4.371744e+06       978.423653\n",
       "min    3.000000e+23  4.879000e+06        23.900000\n",
       "25%    2.585000e+24  8.491500e+06       369.825000\n",
       "50%    4.870000e+24  1.210400e+07       715.750000\n",
       "75%    5.420000e+24  1.243000e+07      1061.675000\n",
       "max    5.970000e+24  1.275600e+07      1407.600000"
      ]
     },
     "execution_count": 11,
     "metadata": {},
     "output_type": "execute_result"
    }
   ],
   "source": [
    "df.describe()"
   ]
  },
  {
   "cell_type": "markdown",
   "id": "04c08aae",
   "metadata": {},
   "source": [
    "- Indexing is made very easy with dataframes"
   ]
  },
  {
   "cell_type": "code",
   "execution_count": 12,
   "id": "4d1804c1",
   "metadata": {},
   "outputs": [
    {
     "data": {
      "text/plain": [
       "Mercury    3.000000e+23\n",
       "Venus      4.870000e+24\n",
       "Earth      5.970000e+24\n",
       "Name: mass, dtype: float64"
      ]
     },
     "execution_count": 12,
     "metadata": {},
     "output_type": "execute_result"
    }
   ],
   "source": [
    "df['mass']\n",
    "# returns a Series"
   ]
  },
  {
   "cell_type": "code",
   "execution_count": 13,
   "id": "f4b07a07-6ec9-42e3-b1c0-ba7a2f0116ad",
   "metadata": {},
   "outputs": [
    {
     "data": {
      "text/html": [
       "<div>\n",
       "<style scoped>\n",
       "    .dataframe tbody tr th:only-of-type {\n",
       "        vertical-align: middle;\n",
       "    }\n",
       "\n",
       "    .dataframe tbody tr th {\n",
       "        vertical-align: top;\n",
       "    }\n",
       "\n",
       "    .dataframe thead th {\n",
       "        text-align: right;\n",
       "    }\n",
       "</style>\n",
       "<table border=\"1\" class=\"dataframe\">\n",
       "  <thead>\n",
       "    <tr style=\"text-align: right;\">\n",
       "      <th></th>\n",
       "      <th>mass</th>\n",
       "      <th>diameter</th>\n",
       "    </tr>\n",
       "  </thead>\n",
       "  <tbody>\n",
       "    <tr>\n",
       "      <th>Mercury</th>\n",
       "      <td>3.000000e+23</td>\n",
       "      <td>4879000.0</td>\n",
       "    </tr>\n",
       "    <tr>\n",
       "      <th>Venus</th>\n",
       "      <td>4.870000e+24</td>\n",
       "      <td>12104000.0</td>\n",
       "    </tr>\n",
       "    <tr>\n",
       "      <th>Earth</th>\n",
       "      <td>5.970000e+24</td>\n",
       "      <td>12756000.0</td>\n",
       "    </tr>\n",
       "  </tbody>\n",
       "</table>\n",
       "</div>"
      ],
      "text/plain": [
       "                 mass    diameter\n",
       "Mercury  3.000000e+23   4879000.0\n",
       "Venus    4.870000e+24  12104000.0\n",
       "Earth    5.970000e+24  12756000.0"
      ]
     },
     "execution_count": 13,
     "metadata": {},
     "output_type": "execute_result"
    }
   ],
   "source": [
    "df[['mass','diameter']]\n",
    "# returns a DataFrame"
   ]
  },
  {
   "cell_type": "code",
   "execution_count": 14,
   "id": "70e905c2",
   "metadata": {},
   "outputs": [
    {
     "data": {
      "text/plain": [
       "mass               5.970000e+24\n",
       "diameter           1.275600e+07\n",
       "rotation_period    2.390000e+01\n",
       "Name: Earth, dtype: float64"
      ]
     },
     "execution_count": 14,
     "metadata": {},
     "output_type": "execute_result"
    }
   ],
   "source": [
    "df.loc['Earth']"
   ]
  },
  {
   "cell_type": "code",
   "execution_count": 15,
   "id": "612e3b7c",
   "metadata": {},
   "outputs": [
    {
     "data": {
      "text/plain": [
       "5.97e+24"
      ]
     },
     "execution_count": 15,
     "metadata": {},
     "output_type": "execute_result"
    }
   ],
   "source": [
    "df.loc['Earth', 'mass']"
   ]
  },
  {
   "cell_type": "markdown",
   "id": "cd86d0bc",
   "metadata": {},
   "source": [
    "- Adding new columns is as easy as referencing an undefined column"
   ]
  },
  {
   "cell_type": "code",
   "execution_count": 16,
   "id": "ec260144",
   "metadata": {},
   "outputs": [
    {
     "data": {
      "text/html": [
       "<div>\n",
       "<style scoped>\n",
       "    .dataframe tbody tr th:only-of-type {\n",
       "        vertical-align: middle;\n",
       "    }\n",
       "\n",
       "    .dataframe tbody tr th {\n",
       "        vertical-align: top;\n",
       "    }\n",
       "\n",
       "    .dataframe thead th {\n",
       "        text-align: right;\n",
       "    }\n",
       "</style>\n",
       "<table border=\"1\" class=\"dataframe\">\n",
       "  <thead>\n",
       "    <tr style=\"text-align: right;\">\n",
       "      <th></th>\n",
       "      <th>mass</th>\n",
       "      <th>diameter</th>\n",
       "      <th>rotation_period</th>\n",
       "      <th>density</th>\n",
       "    </tr>\n",
       "  </thead>\n",
       "  <tbody>\n",
       "    <tr>\n",
       "      <th>Mercury</th>\n",
       "      <td>3.000000e+23</td>\n",
       "      <td>4879000.0</td>\n",
       "      <td>1407.6</td>\n",
       "      <td>4933.216530</td>\n",
       "    </tr>\n",
       "    <tr>\n",
       "      <th>Venus</th>\n",
       "      <td>4.870000e+24</td>\n",
       "      <td>12104000.0</td>\n",
       "      <td>NaN</td>\n",
       "      <td>5244.977070</td>\n",
       "    </tr>\n",
       "    <tr>\n",
       "      <th>Earth</th>\n",
       "      <td>5.970000e+24</td>\n",
       "      <td>12756000.0</td>\n",
       "      <td>23.9</td>\n",
       "      <td>5493.285577</td>\n",
       "    </tr>\n",
       "  </tbody>\n",
       "</table>\n",
       "</div>"
      ],
      "text/plain": [
       "                 mass    diameter  rotation_period      density\n",
       "Mercury  3.000000e+23   4879000.0           1407.6  4933.216530\n",
       "Venus    4.870000e+24  12104000.0              NaN  5244.977070\n",
       "Earth    5.970000e+24  12756000.0             23.9  5493.285577"
      ]
     },
     "execution_count": 16,
     "metadata": {},
     "output_type": "execute_result"
    }
   ],
   "source": [
    "df['density'] = df.mass / (4/3 * np.pi * (df.diameter/2)**3)\n",
    "df"
   ]
  },
  {
   "cell_type": "markdown",
   "id": "57a668bb",
   "metadata": {},
   "source": [
    "- New series or dataframes can be added to existing dataframes"
   ]
  },
  {
   "cell_type": "code",
   "execution_count": 17,
   "id": "5db0759e",
   "metadata": {},
   "outputs": [
    {
     "data": {
      "text/html": [
       "<div>\n",
       "<style scoped>\n",
       "    .dataframe tbody tr th:only-of-type {\n",
       "        vertical-align: middle;\n",
       "    }\n",
       "\n",
       "    .dataframe tbody tr th {\n",
       "        vertical-align: top;\n",
       "    }\n",
       "\n",
       "    .dataframe thead th {\n",
       "        text-align: right;\n",
       "    }\n",
       "</style>\n",
       "<table border=\"1\" class=\"dataframe\">\n",
       "  <thead>\n",
       "    <tr style=\"text-align: right;\">\n",
       "      <th></th>\n",
       "      <th>mass</th>\n",
       "      <th>diameter</th>\n",
       "      <th>rotation_period</th>\n",
       "      <th>density</th>\n",
       "      <th>temperature</th>\n",
       "    </tr>\n",
       "  </thead>\n",
       "  <tbody>\n",
       "    <tr>\n",
       "      <th>Mercury</th>\n",
       "      <td>3.000000e+23</td>\n",
       "      <td>4879000.0</td>\n",
       "      <td>1407.6</td>\n",
       "      <td>4933.216530</td>\n",
       "      <td>167</td>\n",
       "    </tr>\n",
       "    <tr>\n",
       "      <th>Venus</th>\n",
       "      <td>4.870000e+24</td>\n",
       "      <td>12104000.0</td>\n",
       "      <td>NaN</td>\n",
       "      <td>5244.977070</td>\n",
       "      <td>464</td>\n",
       "    </tr>\n",
       "    <tr>\n",
       "      <th>Earth</th>\n",
       "      <td>5.970000e+24</td>\n",
       "      <td>12756000.0</td>\n",
       "      <td>23.9</td>\n",
       "      <td>5493.285577</td>\n",
       "      <td>15</td>\n",
       "    </tr>\n",
       "    <tr>\n",
       "      <th>Mars</th>\n",
       "      <td>NaN</td>\n",
       "      <td>NaN</td>\n",
       "      <td>NaN</td>\n",
       "      <td>NaN</td>\n",
       "      <td>-65</td>\n",
       "    </tr>\n",
       "  </tbody>\n",
       "</table>\n",
       "</div>"
      ],
      "text/plain": [
       "                 mass    diameter  rotation_period      density  temperature\n",
       "Mercury  3.000000e+23   4879000.0           1407.6  4933.216530          167\n",
       "Venus    4.870000e+24  12104000.0              NaN  5244.977070          464\n",
       "Earth    5.970000e+24  12756000.0             23.9  5493.285577           15\n",
       "Mars              NaN         NaN              NaN          NaN          -65"
      ]
     },
     "execution_count": 17,
     "metadata": {},
     "output_type": "execute_result"
    }
   ],
   "source": [
    "temperature = pd.Series([167, 464, 15, -65],\n",
    "                     index=['Mercury', 'Venus', 'Earth', 'Mars'],\n",
    "                     name='temperature')\n",
    "df2 = df.join(temperature, how='right')\n",
    "df2"
   ]
  },
  {
   "cell_type": "code",
   "execution_count": 18,
   "id": "81df8730",
   "metadata": {},
   "outputs": [
    {
     "data": {
      "text/html": [
       "<div>\n",
       "<style scoped>\n",
       "    .dataframe tbody tr th:only-of-type {\n",
       "        vertical-align: middle;\n",
       "    }\n",
       "\n",
       "    .dataframe tbody tr th {\n",
       "        vertical-align: top;\n",
       "    }\n",
       "\n",
       "    .dataframe thead th {\n",
       "        text-align: right;\n",
       "    }\n",
       "</style>\n",
       "<table border=\"1\" class=\"dataframe\">\n",
       "  <thead>\n",
       "    <tr style=\"text-align: right;\">\n",
       "      <th></th>\n",
       "      <th>mass</th>\n",
       "      <th>diameter</th>\n",
       "      <th>rotation_period</th>\n",
       "      <th>density</th>\n",
       "      <th>temperature</th>\n",
       "    </tr>\n",
       "  </thead>\n",
       "  <tbody>\n",
       "    <tr>\n",
       "      <th>Mercury</th>\n",
       "      <td>3.000000e+23</td>\n",
       "      <td>4879000.0</td>\n",
       "      <td>1407.6</td>\n",
       "      <td>4933.216530</td>\n",
       "      <td>167</td>\n",
       "    </tr>\n",
       "    <tr>\n",
       "      <th>Venus</th>\n",
       "      <td>4.870000e+24</td>\n",
       "      <td>12104000.0</td>\n",
       "      <td>NaN</td>\n",
       "      <td>5244.977070</td>\n",
       "      <td>464</td>\n",
       "    </tr>\n",
       "    <tr>\n",
       "      <th>Mars</th>\n",
       "      <td>NaN</td>\n",
       "      <td>NaN</td>\n",
       "      <td>NaN</td>\n",
       "      <td>NaN</td>\n",
       "      <td>-65</td>\n",
       "    </tr>\n",
       "    <tr>\n",
       "      <th>Earth</th>\n",
       "      <td>5.970000e+24</td>\n",
       "      <td>12756000.0</td>\n",
       "      <td>23.9</td>\n",
       "      <td>5493.285577</td>\n",
       "      <td>15</td>\n",
       "    </tr>\n",
       "  </tbody>\n",
       "</table>\n",
       "</div>"
      ],
      "text/plain": [
       "                 mass    diameter  rotation_period      density  temperature\n",
       "Mercury  3.000000e+23   4879000.0           1407.6  4933.216530          167\n",
       "Venus    4.870000e+24  12104000.0              NaN  5244.977070          464\n",
       "Mars              NaN         NaN              NaN          NaN          -65\n",
       "Earth    5.970000e+24  12756000.0             23.9  5493.285577           15"
      ]
     },
     "execution_count": 18,
     "metadata": {},
     "output_type": "execute_result"
    }
   ],
   "source": [
    "everyone = df2.reindex(['Mercury', 'Venus', 'Mars', 'Earth'])\n",
    "everyone"
   ]
  },
  {
   "cell_type": "markdown",
   "id": "5cc179cd",
   "metadata": {},
   "source": [
    "- Indexing with a boolean is easy"
   ]
  },
  {
   "cell_type": "code",
   "execution_count": 19,
   "id": "29d039b5",
   "metadata": {},
   "outputs": [
    {
     "data": {
      "text/html": [
       "<div>\n",
       "<style scoped>\n",
       "    .dataframe tbody tr th:only-of-type {\n",
       "        vertical-align: middle;\n",
       "    }\n",
       "\n",
       "    .dataframe tbody tr th {\n",
       "        vertical-align: top;\n",
       "    }\n",
       "\n",
       "    .dataframe thead th {\n",
       "        text-align: right;\n",
       "    }\n",
       "</style>\n",
       "<table border=\"1\" class=\"dataframe\">\n",
       "  <thead>\n",
       "    <tr style=\"text-align: right;\">\n",
       "      <th></th>\n",
       "      <th>mass</th>\n",
       "      <th>diameter</th>\n",
       "      <th>rotation_period</th>\n",
       "      <th>density</th>\n",
       "    </tr>\n",
       "  </thead>\n",
       "  <tbody>\n",
       "    <tr>\n",
       "      <th>Venus</th>\n",
       "      <td>4.870000e+24</td>\n",
       "      <td>12104000.0</td>\n",
       "      <td>NaN</td>\n",
       "      <td>5244.977070</td>\n",
       "    </tr>\n",
       "    <tr>\n",
       "      <th>Earth</th>\n",
       "      <td>5.970000e+24</td>\n",
       "      <td>12756000.0</td>\n",
       "      <td>23.9</td>\n",
       "      <td>5493.285577</td>\n",
       "    </tr>\n",
       "  </tbody>\n",
       "</table>\n",
       "</div>"
      ],
      "text/plain": [
       "               mass    diameter  rotation_period      density\n",
       "Venus  4.870000e+24  12104000.0              NaN  5244.977070\n",
       "Earth  5.970000e+24  12756000.0             23.9  5493.285577"
      ]
     },
     "execution_count": 19,
     "metadata": {},
     "output_type": "execute_result"
    }
   ],
   "source": [
    "bigguys = df[df.mass > 4e24]\n",
    "bigguys"
   ]
  },
  {
   "cell_type": "markdown",
   "id": "2395de5a",
   "metadata": {},
   "source": [
    "- Plotting functions from matplotlib are build directly into Pandas"
   ]
  },
  {
   "cell_type": "code",
   "execution_count": 20,
   "id": "a05d3c34",
   "metadata": {},
   "outputs": [
    {
     "data": {
      "text/plain": [
       "<Axes: xlabel='mass', ylabel='diameter'>"
      ]
     },
     "execution_count": 20,
     "metadata": {},
     "output_type": "execute_result"
    },
    {
     "data": {
      "image/png": "[encoded data removed]",
      "text/plain": [
       "<Figure size 640x480 with 1 Axes>"
      ]
     },
     "metadata": {},
     "output_type": "display_data"
    }
   ],
   "source": [
    "df.plot(kind='scatter', x='mass', y='diameter', grid=True)"
   ]
  },
  {
   "cell_type": "code",
   "execution_count": 21,
   "id": "cc5bd1b7",
   "metadata": {},
   "outputs": [
    {
     "data": {
      "text/plain": [
       "<Axes: >"
      ]
     },
     "execution_count": 21,
     "metadata": {},
     "output_type": "execute_result"
    },
    {
     "data": {
      "image/png": "[encoded data removed]",
      "text/plain": [
       "<Figure size 640x480 with 1 Axes>"
      ]
     },
     "metadata": {},
     "output_type": "display_data"
    }
   ],
   "source": [
    "df.plot(kind='bar')"
   ]
  },
  {
   "cell_type": "markdown",
   "id": "06547fff-3bf7-4eb6-aa89-71d8156f59a3",
   "metadata": {},
   "source": [
    "### Input from/output to .csv file "
   ]
  },
  {
   "cell_type": "markdown",
   "id": "8e3cdad1-0b29-4f57-9039-31049ebff730",
   "metadata": {},
   "source": [
    "- Loading uncompressed data directly into a dataframe makes manipulating the data much easier. Here we need to know that the file is space-delimited, not comma delimited which is the default assumption of the read_csv function."
   ]
  },
  {
   "cell_type": "code",
   "execution_count": 22,
   "id": "82df2beb-7c8f-430e-97ce-c4a9ac9ea1e0",
   "metadata": {},
   "outputs": [
    {
     "data": {
      "text/html": [
       "<div>\n",
       "<style scoped>\n",
       "    .dataframe tbody tr th:only-of-type {\n",
       "        vertical-align: middle;\n",
       "    }\n",
       "\n",
       "    .dataframe tbody tr th {\n",
       "        vertical-align: top;\n",
       "    }\n",
       "\n",
       "    .dataframe thead th {\n",
       "        text-align: right;\n",
       "    }\n",
       "</style>\n",
       "<table border=\"1\" class=\"dataframe\">\n",
       "  <thead>\n",
       "    <tr style=\"text-align: right;\">\n",
       "      <th></th>\n",
       "      <th>JAN</th>\n",
       "      <th>FEB</th>\n",
       "      <th>MAR</th>\n",
       "      <th>APR</th>\n",
       "      <th>MAY</th>\n",
       "      <th>JUN</th>\n",
       "      <th>JUL</th>\n",
       "      <th>AUG</th>\n",
       "      <th>SEP</th>\n",
       "      <th>OCT</th>\n",
       "      <th>NOV</th>\n",
       "      <th>DEC</th>\n",
       "      <th>ANNUAL</th>\n",
       "    </tr>\n",
       "    <tr>\n",
       "      <th>Year</th>\n",
       "      <th></th>\n",
       "      <th></th>\n",
       "      <th></th>\n",
       "      <th></th>\n",
       "      <th></th>\n",
       "      <th></th>\n",
       "      <th></th>\n",
       "      <th></th>\n",
       "      <th></th>\n",
       "      <th></th>\n",
       "      <th></th>\n",
       "      <th></th>\n",
       "      <th></th>\n",
       "    </tr>\n",
       "  </thead>\n",
       "  <tbody>\n",
       "    <tr>\n",
       "      <th>1872</th>\n",
       "      <td>NaN</td>\n",
       "      <td>NaN</td>\n",
       "      <td>26.5</td>\n",
       "      <td>46.6</td>\n",
       "      <td>59.3</td>\n",
       "      <td>68.9</td>\n",
       "      <td>75.7</td>\n",
       "      <td>73.0</td>\n",
       "      <td>64.4</td>\n",
       "      <td>51.9</td>\n",
       "      <td>40.6</td>\n",
       "      <td>23.1</td>\n",
       "      <td>53.0</td>\n",
       "    </tr>\n",
       "    <tr>\n",
       "      <th>1873</th>\n",
       "      <td>25.1</td>\n",
       "      <td>26.4</td>\n",
       "      <td>33.9</td>\n",
       "      <td>44.9</td>\n",
       "      <td>56.5</td>\n",
       "      <td>67.3</td>\n",
       "      <td>72.9</td>\n",
       "      <td>69.8</td>\n",
       "      <td>62.8</td>\n",
       "      <td>53.5</td>\n",
       "      <td>33.3</td>\n",
       "      <td>32.1</td>\n",
       "      <td>48.2</td>\n",
       "    </tr>\n",
       "    <tr>\n",
       "      <th>1874</th>\n",
       "      <td>30.5</td>\n",
       "      <td>27.0</td>\n",
       "      <td>34.4</td>\n",
       "      <td>38.8</td>\n",
       "      <td>55.5</td>\n",
       "      <td>66.1</td>\n",
       "      <td>72.9</td>\n",
       "      <td>68.1</td>\n",
       "      <td>64.4</td>\n",
       "      <td>53.2</td>\n",
       "      <td>41.6</td>\n",
       "      <td>31.3</td>\n",
       "      <td>48.6</td>\n",
       "    </tr>\n",
       "    <tr>\n",
       "      <th>1875</th>\n",
       "      <td>20.1</td>\n",
       "      <td>22.3</td>\n",
       "      <td>31.3</td>\n",
       "      <td>42.5</td>\n",
       "      <td>57.9</td>\n",
       "      <td>66.7</td>\n",
       "      <td>72.1</td>\n",
       "      <td>71.0</td>\n",
       "      <td>59.6</td>\n",
       "      <td>50.1</td>\n",
       "      <td>34.9</td>\n",
       "      <td>29.6</td>\n",
       "      <td>46.5</td>\n",
       "    </tr>\n",
       "    <tr>\n",
       "      <th>1876</th>\n",
       "      <td>30.7</td>\n",
       "      <td>27.5</td>\n",
       "      <td>33.5</td>\n",
       "      <td>43.9</td>\n",
       "      <td>54.6</td>\n",
       "      <td>68.9</td>\n",
       "      <td>74.0</td>\n",
       "      <td>70.3</td>\n",
       "      <td>59.9</td>\n",
       "      <td>48.3</td>\n",
       "      <td>41.4</td>\n",
       "      <td>22.2</td>\n",
       "      <td>47.9</td>\n",
       "    </tr>\n",
       "    <tr>\n",
       "      <th>...</th>\n",
       "      <td>...</td>\n",
       "      <td>...</td>\n",
       "      <td>...</td>\n",
       "      <td>...</td>\n",
       "      <td>...</td>\n",
       "      <td>...</td>\n",
       "      <td>...</td>\n",
       "      <td>...</td>\n",
       "      <td>...</td>\n",
       "      <td>...</td>\n",
       "      <td>...</td>\n",
       "      <td>...</td>\n",
       "      <td>...</td>\n",
       "    </tr>\n",
       "    <tr>\n",
       "      <th>2019</th>\n",
       "      <td>30.7</td>\n",
       "      <td>33.5</td>\n",
       "      <td>39.1</td>\n",
       "      <td>51.7</td>\n",
       "      <td>57.8</td>\n",
       "      <td>68.2</td>\n",
       "      <td>78.7</td>\n",
       "      <td>74.1</td>\n",
       "      <td>68.0</td>\n",
       "      <td>57.4</td>\n",
       "      <td>42.8</td>\n",
       "      <td>37.2</td>\n",
       "      <td>53.3</td>\n",
       "    </tr>\n",
       "    <tr>\n",
       "      <th>2020</th>\n",
       "      <td>38.0</td>\n",
       "      <td>37.8</td>\n",
       "      <td>41.8</td>\n",
       "      <td>44.6</td>\n",
       "      <td>56.8</td>\n",
       "      <td>69.2</td>\n",
       "      <td>75.3</td>\n",
       "      <td>74.1</td>\n",
       "      <td>65.6</td>\n",
       "      <td>54.7</td>\n",
       "      <td>48.0</td>\n",
       "      <td>36.0</td>\n",
       "      <td>53.5</td>\n",
       "    </tr>\n",
       "    <tr>\n",
       "      <th>2021</th>\n",
       "      <td>31.0</td>\n",
       "      <td>30.8</td>\n",
       "      <td>42.0</td>\n",
       "      <td>50.8</td>\n",
       "      <td>61.4</td>\n",
       "      <td>74.4</td>\n",
       "      <td>72.4</td>\n",
       "      <td>76.9</td>\n",
       "      <td>69.7</td>\n",
       "      <td>59.9</td>\n",
       "      <td>44.7</td>\n",
       "      <td>39.2</td>\n",
       "      <td>54.4</td>\n",
       "    </tr>\n",
       "    <tr>\n",
       "      <th>2022</th>\n",
       "      <td>27.4</td>\n",
       "      <td>33.1</td>\n",
       "      <td>41.4</td>\n",
       "      <td>50.1</td>\n",
       "      <td>60.6</td>\n",
       "      <td>67.9</td>\n",
       "      <td>77.5</td>\n",
       "      <td>76.7</td>\n",
       "      <td>65.2</td>\n",
       "      <td>56.6</td>\n",
       "      <td>49.0</td>\n",
       "      <td>37.3</td>\n",
       "      <td>53.6</td>\n",
       "    </tr>\n",
       "    <tr>\n",
       "      <th>2023</th>\n",
       "      <td>37.8</td>\n",
       "      <td>34.9</td>\n",
       "      <td>40.8</td>\n",
       "      <td>50.8</td>\n",
       "      <td>60.1</td>\n",
       "      <td>65.9</td>\n",
       "      <td>75.4</td>\n",
       "      <td>71.8</td>\n",
       "      <td>67.4</td>\n",
       "      <td>59.2</td>\n",
       "      <td>43.0</td>\n",
       "      <td>40.8</td>\n",
       "      <td>54.0</td>\n",
       "    </tr>\n",
       "  </tbody>\n",
       "</table>\n",
       "<p>152 rows × 13 columns</p>\n",
       "</div>"
      ],
      "text/plain": [
       "       JAN   FEB   MAR   APR   MAY   JUN   JUL   AUG   SEP   OCT   NOV   DEC  \\\n",
       "Year                                                                           \n",
       "1872   NaN   NaN  26.5  46.6  59.3  68.9  75.7  73.0  64.4  51.9  40.6  23.1   \n",
       "1873  25.1  26.4  33.9  44.9  56.5  67.3  72.9  69.8  62.8  53.5  33.3  32.1   \n",
       "1874  30.5  27.0  34.4  38.8  55.5  66.1  72.9  68.1  64.4  53.2  41.6  31.3   \n",
       "1875  20.1  22.3  31.3  42.5  57.9  66.7  72.1  71.0  59.6  50.1  34.9  29.6   \n",
       "1876  30.7  27.5  33.5  43.9  54.6  68.9  74.0  70.3  59.9  48.3  41.4  22.2   \n",
       "...    ...   ...   ...   ...   ...   ...   ...   ...   ...   ...   ...   ...   \n",
       "2019  30.7  33.5  39.1  51.7  57.8  68.2  78.7  74.1  68.0  57.4  42.8  37.2   \n",
       "2020  38.0  37.8  41.8  44.6  56.8  69.2  75.3  74.1  65.6  54.7  48.0  36.0   \n",
       "2021  31.0  30.8  42.0  50.8  61.4  74.4  72.4  76.9  69.7  59.9  44.7  39.2   \n",
       "2022  27.4  33.1  41.4  50.1  60.6  67.9  77.5  76.7  65.2  56.6  49.0  37.3   \n",
       "2023  37.8  34.9  40.8  50.8  60.1  65.9  75.4  71.8  67.4  59.2  43.0  40.8   \n",
       "\n",
       "      ANNUAL  \n",
       "Year          \n",
       "1872    53.0  \n",
       "1873    48.2  \n",
       "1874    48.6  \n",
       "1875    46.5  \n",
       "1876    47.9  \n",
       "...      ...  \n",
       "2019    53.3  \n",
       "2020    53.5  \n",
       "2021    54.4  \n",
       "2022    53.6  \n",
       "2023    54.0  \n",
       "\n",
       "[152 rows x 13 columns]"
      ]
     },
     "execution_count": 22,
     "metadata": {},
     "output_type": "execute_result"
    }
   ],
   "source": [
    "# Generates Pandas DataFrame from .csv file\n",
    "#  Uses , as separator and missing value is set to -999\n",
    "#  Also the first column is the index\n",
    "df_bos = pd.read_csv('Boston.csv', sep=',' , na_values=-999, index_col=0)\n",
    "df_bos"
   ]
  },
  {
   "cell_type": "code",
   "execution_count": 23,
   "id": "a69978a7-6c95-437f-8fe2-4a572c136b5f",
   "metadata": {},
   "outputs": [
    {
     "data": {
      "text/html": [
       "<div>\n",
       "<style scoped>\n",
       "    .dataframe tbody tr th:only-of-type {\n",
       "        vertical-align: middle;\n",
       "    }\n",
       "\n",
       "    .dataframe tbody tr th {\n",
       "        vertical-align: top;\n",
       "    }\n",
       "\n",
       "    .dataframe thead th {\n",
       "        text-align: right;\n",
       "    }\n",
       "</style>\n",
       "<table border=\"1\" class=\"dataframe\">\n",
       "  <thead>\n",
       "    <tr style=\"text-align: right;\">\n",
       "      <th></th>\n",
       "      <th>JAN</th>\n",
       "      <th>FEB</th>\n",
       "      <th>MAR</th>\n",
       "      <th>APR</th>\n",
       "      <th>MAY</th>\n",
       "      <th>JUN</th>\n",
       "      <th>JUL</th>\n",
       "      <th>AUG</th>\n",
       "      <th>SEP</th>\n",
       "      <th>OCT</th>\n",
       "      <th>NOV</th>\n",
       "      <th>DEC</th>\n",
       "      <th>ANNUAL</th>\n",
       "    </tr>\n",
       "  </thead>\n",
       "  <tbody>\n",
       "    <tr>\n",
       "      <th>count</th>\n",
       "      <td>151.000000</td>\n",
       "      <td>151.000000</td>\n",
       "      <td>152.000000</td>\n",
       "      <td>151.000000</td>\n",
       "      <td>152.000000</td>\n",
       "      <td>152.000000</td>\n",
       "      <td>152.000000</td>\n",
       "      <td>152.000000</td>\n",
       "      <td>152.000000</td>\n",
       "      <td>152.000000</td>\n",
       "      <td>152.000000</td>\n",
       "      <td>150.000000</td>\n",
       "      <td>152.000000</td>\n",
       "    </tr>\n",
       "    <tr>\n",
       "      <th>mean</th>\n",
       "      <td>29.131788</td>\n",
       "      <td>29.994040</td>\n",
       "      <td>37.477632</td>\n",
       "      <td>47.543709</td>\n",
       "      <td>58.029605</td>\n",
       "      <td>67.326316</td>\n",
       "      <td>73.073684</td>\n",
       "      <td>71.390789</td>\n",
       "      <td>64.492763</td>\n",
       "      <td>54.359868</td>\n",
       "      <td>43.944079</td>\n",
       "      <td>33.562667</td>\n",
       "      <td>50.909211</td>\n",
       "    </tr>\n",
       "    <tr>\n",
       "      <th>std</th>\n",
       "      <td>4.389933</td>\n",
       "      <td>3.944485</td>\n",
       "      <td>3.673247</td>\n",
       "      <td>2.613416</td>\n",
       "      <td>2.578486</td>\n",
       "      <td>2.378623</td>\n",
       "      <td>2.120813</td>\n",
       "      <td>2.239009</td>\n",
       "      <td>2.237137</td>\n",
       "      <td>2.650459</td>\n",
       "      <td>3.012902</td>\n",
       "      <td>4.268954</td>\n",
       "      <td>1.569931</td>\n",
       "    </tr>\n",
       "    <tr>\n",
       "      <th>min</th>\n",
       "      <td>19.700000</td>\n",
       "      <td>17.500000</td>\n",
       "      <td>26.500000</td>\n",
       "      <td>38.800000</td>\n",
       "      <td>50.500000</td>\n",
       "      <td>59.800000</td>\n",
       "      <td>67.900000</td>\n",
       "      <td>65.000000</td>\n",
       "      <td>59.600000</td>\n",
       "      <td>47.700000</td>\n",
       "      <td>33.300000</td>\n",
       "      <td>21.700000</td>\n",
       "      <td>46.500000</td>\n",
       "    </tr>\n",
       "    <tr>\n",
       "      <th>25%</th>\n",
       "      <td>25.950000</td>\n",
       "      <td>27.050000</td>\n",
       "      <td>34.825000</td>\n",
       "      <td>45.450000</td>\n",
       "      <td>56.300000</td>\n",
       "      <td>65.650000</td>\n",
       "      <td>71.600000</td>\n",
       "      <td>69.975000</td>\n",
       "      <td>62.900000</td>\n",
       "      <td>52.600000</td>\n",
       "      <td>41.975000</td>\n",
       "      <td>30.700000</td>\n",
       "      <td>49.900000</td>\n",
       "    </tr>\n",
       "    <tr>\n",
       "      <th>50%</th>\n",
       "      <td>29.100000</td>\n",
       "      <td>30.400000</td>\n",
       "      <td>37.400000</td>\n",
       "      <td>47.900000</td>\n",
       "      <td>57.900000</td>\n",
       "      <td>67.300000</td>\n",
       "      <td>73.100000</td>\n",
       "      <td>71.100000</td>\n",
       "      <td>64.500000</td>\n",
       "      <td>54.300000</td>\n",
       "      <td>43.800000</td>\n",
       "      <td>33.850000</td>\n",
       "      <td>50.900000</td>\n",
       "    </tr>\n",
       "    <tr>\n",
       "      <th>75%</th>\n",
       "      <td>32.000000</td>\n",
       "      <td>32.600000</td>\n",
       "      <td>39.325000</td>\n",
       "      <td>49.250000</td>\n",
       "      <td>59.925000</td>\n",
       "      <td>68.900000</td>\n",
       "      <td>74.350000</td>\n",
       "      <td>73.100000</td>\n",
       "      <td>65.700000</td>\n",
       "      <td>56.000000</td>\n",
       "      <td>45.725000</td>\n",
       "      <td>36.300000</td>\n",
       "      <td>51.925000</td>\n",
       "    </tr>\n",
       "    <tr>\n",
       "      <th>max</th>\n",
       "      <td>39.300000</td>\n",
       "      <td>38.100000</td>\n",
       "      <td>47.200000</td>\n",
       "      <td>55.100000</td>\n",
       "      <td>63.700000</td>\n",
       "      <td>74.400000</td>\n",
       "      <td>78.700000</td>\n",
       "      <td>77.400000</td>\n",
       "      <td>70.600000</td>\n",
       "      <td>61.500000</td>\n",
       "      <td>51.800000</td>\n",
       "      <td>45.300000</td>\n",
       "      <td>54.400000</td>\n",
       "    </tr>\n",
       "  </tbody>\n",
       "</table>\n",
       "</div>"
      ],
      "text/plain": [
       "              JAN         FEB         MAR         APR         MAY         JUN  \\\n",
       "count  151.000000  151.000000  152.000000  151.000000  152.000000  152.000000   \n",
       "mean    29.131788   29.994040   37.477632   47.543709   58.029605   67.326316   \n",
       "std      4.389933    3.944485    3.673247    2.613416    2.578486    2.378623   \n",
       "min     19.700000   17.500000   26.500000   38.800000   50.500000   59.800000   \n",
       "25%     25.950000   27.050000   34.825000   45.450000   56.300000   65.650000   \n",
       "50%     29.100000   30.400000   37.400000   47.900000   57.900000   67.300000   \n",
       "75%     32.000000   32.600000   39.325000   49.250000   59.925000   68.900000   \n",
       "max     39.300000   38.100000   47.200000   55.100000   63.700000   74.400000   \n",
       "\n",
       "              JUL         AUG         SEP         OCT         NOV         DEC  \\\n",
       "count  152.000000  152.000000  152.000000  152.000000  152.000000  150.000000   \n",
       "mean    73.073684   71.390789   64.492763   54.359868   43.944079   33.562667   \n",
       "std      2.120813    2.239009    2.237137    2.650459    3.012902    4.268954   \n",
       "min     67.900000   65.000000   59.600000   47.700000   33.300000   21.700000   \n",
       "25%     71.600000   69.975000   62.900000   52.600000   41.975000   30.700000   \n",
       "50%     73.100000   71.100000   64.500000   54.300000   43.800000   33.850000   \n",
       "75%     74.350000   73.100000   65.700000   56.000000   45.725000   36.300000   \n",
       "max     78.700000   77.400000   70.600000   61.500000   51.800000   45.300000   \n",
       "\n",
       "           ANNUAL  \n",
       "count  152.000000  \n",
       "mean    50.909211  \n",
       "std      1.569931  \n",
       "min     46.500000  \n",
       "25%     49.900000  \n",
       "50%     50.900000  \n",
       "75%     51.925000  \n",
       "max     54.400000  "
      ]
     },
     "execution_count": 23,
     "metadata": {},
     "output_type": "execute_result"
    }
   ],
   "source": [
    "df_bos.describe() #dump info about dataframe"
   ]
  },
  {
   "cell_type": "code",
   "execution_count": 24,
   "id": "cfe33ce9-dbaf-41c7-8941-4b174b0bef4d",
   "metadata": {},
   "outputs": [
    {
     "data": {
      "image/png": "[encoded data removed]",
      "text/plain": [
       "<Figure size 640x480 with 1 Axes>"
      ]
     },
     "metadata": {},
     "output_type": "display_data"
    }
   ],
   "source": [
    "# generate box plot directly from DataFrame\n",
    "df_bos.plot(kind='box')\n",
    "plt.xticks(rotation=30)\n",
    "plt.ylabel('temperature, deg F')\n",
    "plt.title('Boston, MA')\n",
    "plt.show()"
   ]
  },
  {
   "cell_type": "code",
   "execution_count": 25,
   "id": "d112a566-3a2a-4d31-bf8c-87a3cb3ed226",
   "metadata": {},
   "outputs": [
    {
     "data": {
      "image/png": "[encoded data removed]",
      "text/plain": [
       "<Figure size 640x480 with 1 Axes>"
      ]
     },
     "metadata": {},
     "output_type": "display_data"
    }
   ],
   "source": [
    "# generate histogram directly from DataFrame\n",
    "df_bos['JAN'].plot(kind='hist',density=True)\n",
    "df_bos['JAN'].plot(kind='density')\n",
    "plt.xlabel('JAN temperature, deg F')\n",
    "plt.title('Boston, MA')\n",
    "plt.show()"
   ]
  },
  {
   "cell_type": "code",
   "execution_count": 26,
   "id": "4d746490-55ff-4649-b4db-fd55a33c5946",
   "metadata": {},
   "outputs": [
    {
     "data": {
      "image/png": "[encoded data removed]",
      "text/plain": [
       "<Figure size 640x480 with 1 Axes>"
      ]
     },
     "metadata": {},
     "output_type": "display_data"
    }
   ],
   "source": [
    "# plot the time series of Annual mean temperature\n",
    "df_bos['ANNUAL'].plot()\n",
    "plt.ylabel('temperature, deg F')\n",
    "plt.title('Boston, MA: Annual mean temperature')\n",
    "plt.show()"
   ]
  },
  {
   "cell_type": "markdown",
   "id": "b116e56d-ec90-4575-8cc0-fffadfbebe05",
   "metadata": {},
   "source": [
    "### Datetime\n",
    "- Most modern datasets that include temporal information (time and date when an observation was made) use a format for time called \"datetime\" ([see Project Pythia for detail](https://foundations.projectpythia.org/core/datetime/datetime.html)). What you should know is that datetime format has information as: YYYY-MM-DD HH:MM:SS. This can also be shortened if further precision (i.e. time or minutes) is not available, or can include arbitrarily high precision (decimal seconds). Converting from other time format to datetime can make many different ways of processing data much easier (especially when using Pandas, see later)."
   ]
  },
  {
   "cell_type": "markdown",
   "id": "d3c58a9d",
   "metadata": {},
   "source": [
    "- We can use datetime to index data. Plotting with datetime is very nice"
   ]
  },
  {
   "cell_type": "code",
   "execution_count": 27,
   "id": "bc01092f-770c-4c13-8f94-742686a7520f",
   "metadata": {},
   "outputs": [
    {
     "data": {
      "text/plain": [
       "DatetimeIndex(['2014-01-01', '2014-01-02', '2014-01-03', '2014-01-04',\n",
       "               '2014-01-05', '2014-01-06', '2014-01-07', '2014-01-08',\n",
       "               '2014-01-09', '2014-01-10',\n",
       "               ...\n",
       "               '2015-12-23', '2015-12-24', '2015-12-25', '2015-12-26',\n",
       "               '2015-12-27', '2015-12-28', '2015-12-29', '2015-12-30',\n",
       "               '2015-12-31', '2016-01-01'],\n",
       "              dtype='datetime64[ns]', length=731, freq='D')"
      ]
     },
     "execution_count": 27,
     "metadata": {},
     "output_type": "execute_result"
    }
   ],
   "source": [
    "# This line creates a time axis between start and end date with a defined frequency (day)\n",
    "two_years = pd.date_range(start='2014-01-01', end='2016-01-01', freq='D')\n",
    "# It returns DatetimeIndex\n",
    "two_years"
   ]
  },
  {
   "cell_type": "code",
   "execution_count": 28,
   "id": "7f91742c",
   "metadata": {},
   "outputs": [
    {
     "data": {
      "text/plain": [
       "2014-01-01    1.721336e-02\n",
       "2014-01-02    3.442161e-02\n",
       "2014-01-03    5.161967e-02\n",
       "2014-01-04    6.880243e-02\n",
       "2014-01-05    8.596480e-02\n",
       "                  ...     \n",
       "2015-12-28   -5.161967e-02\n",
       "2015-12-29   -3.442161e-02\n",
       "2015-12-30   -1.721336e-02\n",
       "2015-12-31    6.432491e-16\n",
       "2016-01-01    1.721336e-02\n",
       "Freq: D, Length: 731, dtype: float64"
      ]
     },
     "execution_count": 28,
     "metadata": {},
     "output_type": "execute_result"
    }
   ],
   "source": [
    "# This line creates a sine function with the period of 365 days as Pandas Series object\n",
    "timeseries = pd.Series(np.sin(2 *np.pi *two_years.dayofyear / 365),\n",
    "                       index=two_years)\n",
    "# returns a Pandas Series\n",
    "timeseries"
   ]
  },
  {
   "cell_type": "code",
   "execution_count": 29,
   "id": "e843d72a-1f8a-4a88-a623-3218b4df684d",
   "metadata": {},
   "outputs": [
    {
     "data": {
      "text/plain": [
       "<Axes: >"
      ]
     },
     "execution_count": 29,
     "metadata": {},
     "output_type": "execute_result"
    },
    {
     "data": {
      "image/png": "[encoded data removed]",
      "text/plain": [
       "<Figure size 640x480 with 1 Axes>"
      ]
     },
     "metadata": {},
     "output_type": "display_data"
    }
   ],
   "source": [
    "# make a plot directly from the Series\n",
    "timeseries.plot()"
   ]
  },
  {
   "cell_type": "code",
   "execution_count": 30,
   "id": "3cd77e66",
   "metadata": {},
   "outputs": [
    {
     "data": {
      "text/plain": [
       "<Axes: >"
      ]
     },
     "execution_count": 30,
     "metadata": {},
     "output_type": "execute_result"
    },
    {
     "data": {
      "image/png": "[encoded data removed]",
      "text/plain": [
       "<Figure size 640x480 with 1 Axes>"
      ]
     },
     "metadata": {},
     "output_type": "display_data"
    }
   ],
   "source": [
    "timeseries.loc['2015-01-01':'2015-07-01'].plot() #slicing"
   ]
  },
  {
   "cell_type": "markdown",
   "id": "e4f61bff-bcd5-469f-b467-1bd9edc028d1",
   "metadata": {},
   "source": [
    "### Getting data from a URL\n",
    "- You can enter URL of the data from a known source\n",
    "- First lets pull in some large earthquake catalogue data"
   ]
  },
  {
   "cell_type": "code",
   "execution_count": 31,
   "id": "a73fddeb-2917-493f-a1f8-a420ad8d67aa",
   "metadata": {},
   "outputs": [
    {
     "data": {
      "text/html": [
       "<div>\n",
       "<style scoped>\n",
       "    .dataframe tbody tr th:only-of-type {\n",
       "        vertical-align: middle;\n",
       "    }\n",
       "\n",
       "    .dataframe tbody tr th {\n",
       "        vertical-align: top;\n",
       "    }\n",
       "\n",
       "    .dataframe thead th {\n",
       "        text-align: right;\n",
       "    }\n",
       "</style>\n",
       "<table border=\"1\" class=\"dataframe\">\n",
       "  <thead>\n",
       "    <tr style=\"text-align: right;\">\n",
       "      <th></th>\n",
       "      <th>time</th>\n",
       "      <th>latitude</th>\n",
       "      <th>longitude</th>\n",
       "      <th>depth</th>\n",
       "      <th>mag</th>\n",
       "      <th>magType</th>\n",
       "      <th>nst</th>\n",
       "      <th>gap</th>\n",
       "      <th>dmin</th>\n",
       "      <th>rms</th>\n",
       "      <th>net</th>\n",
       "      <th>updated</th>\n",
       "      <th>place</th>\n",
       "      <th>type</th>\n",
       "      <th>country</th>\n",
       "    </tr>\n",
       "    <tr>\n",
       "      <th>id</th>\n",
       "      <th></th>\n",
       "      <th></th>\n",
       "      <th></th>\n",
       "      <th></th>\n",
       "      <th></th>\n",
       "      <th></th>\n",
       "      <th></th>\n",
       "      <th></th>\n",
       "      <th></th>\n",
       "      <th></th>\n",
       "      <th></th>\n",
       "      <th></th>\n",
       "      <th></th>\n",
       "      <th></th>\n",
       "      <th></th>\n",
       "    </tr>\n",
       "  </thead>\n",
       "  <tbody>\n",
       "    <tr>\n",
       "      <th>usc000mqlp</th>\n",
       "      <td>2014-01-31 23:08:03.660</td>\n",
       "      <td>-4.9758</td>\n",
       "      <td>153.9466</td>\n",
       "      <td>110.18</td>\n",
       "      <td>4.2</td>\n",
       "      <td>mb</td>\n",
       "      <td>NaN</td>\n",
       "      <td>98.0</td>\n",
       "      <td>1.940</td>\n",
       "      <td>0.61</td>\n",
       "      <td>us</td>\n",
       "      <td>2014-04-08T01:43:19.000Z</td>\n",
       "      <td>115km ESE of Taron, Papua New Guinea</td>\n",
       "      <td>earthquake</td>\n",
       "      <td>Papua New Guinea</td>\n",
       "    </tr>\n",
       "    <tr>\n",
       "      <th>usc000mqln</th>\n",
       "      <td>2014-01-31 22:54:32.970</td>\n",
       "      <td>-28.1775</td>\n",
       "      <td>-177.9058</td>\n",
       "      <td>95.84</td>\n",
       "      <td>4.3</td>\n",
       "      <td>mb</td>\n",
       "      <td>NaN</td>\n",
       "      <td>104.0</td>\n",
       "      <td>1.063</td>\n",
       "      <td>1.14</td>\n",
       "      <td>us</td>\n",
       "      <td>2014-04-08T01:43:19.000Z</td>\n",
       "      <td>120km N of Raoul Island, New Zealand</td>\n",
       "      <td>earthquake</td>\n",
       "      <td>New Zealand</td>\n",
       "    </tr>\n",
       "    <tr>\n",
       "      <th>usc000mqls</th>\n",
       "      <td>2014-01-31 22:49:49.740</td>\n",
       "      <td>-23.1192</td>\n",
       "      <td>179.1174</td>\n",
       "      <td>528.34</td>\n",
       "      <td>4.4</td>\n",
       "      <td>mb</td>\n",
       "      <td>NaN</td>\n",
       "      <td>80.0</td>\n",
       "      <td>5.439</td>\n",
       "      <td>0.95</td>\n",
       "      <td>us</td>\n",
       "      <td>2014-04-08T01:43:19.000Z</td>\n",
       "      <td>South of the Fiji Islands</td>\n",
       "      <td>earthquake</td>\n",
       "      <td>South of the Fiji Islands</td>\n",
       "    </tr>\n",
       "    <tr>\n",
       "      <th>usc000mf1x</th>\n",
       "      <td>2014-01-31 22:19:44.330</td>\n",
       "      <td>51.1569</td>\n",
       "      <td>-178.0910</td>\n",
       "      <td>37.50</td>\n",
       "      <td>4.2</td>\n",
       "      <td>mb</td>\n",
       "      <td>NaN</td>\n",
       "      <td>NaN</td>\n",
       "      <td>NaN</td>\n",
       "      <td>0.83</td>\n",
       "      <td>us</td>\n",
       "      <td>2014-04-08T01:43:19.000Z</td>\n",
       "      <td>72km E of Amatignak Island, Alaska</td>\n",
       "      <td>earthquake</td>\n",
       "      <td>Alaska</td>\n",
       "    </tr>\n",
       "    <tr>\n",
       "      <th>usc000mqlm</th>\n",
       "      <td>2014-01-31 21:56:44.320</td>\n",
       "      <td>-4.8800</td>\n",
       "      <td>153.8434</td>\n",
       "      <td>112.66</td>\n",
       "      <td>4.3</td>\n",
       "      <td>mb</td>\n",
       "      <td>NaN</td>\n",
       "      <td>199.0</td>\n",
       "      <td>1.808</td>\n",
       "      <td>0.79</td>\n",
       "      <td>us</td>\n",
       "      <td>2014-04-08T01:43:19.000Z</td>\n",
       "      <td>100km ESE of Taron, Papua New Guinea</td>\n",
       "      <td>earthquake</td>\n",
       "      <td>Papua New Guinea</td>\n",
       "    </tr>\n",
       "    <tr>\n",
       "      <th>...</th>\n",
       "      <td>...</td>\n",
       "      <td>...</td>\n",
       "      <td>...</td>\n",
       "      <td>...</td>\n",
       "      <td>...</td>\n",
       "      <td>...</td>\n",
       "      <td>...</td>\n",
       "      <td>...</td>\n",
       "      <td>...</td>\n",
       "      <td>...</td>\n",
       "      <td>...</td>\n",
       "      <td>...</td>\n",
       "      <td>...</td>\n",
       "      <td>...</td>\n",
       "      <td>...</td>\n",
       "    </tr>\n",
       "    <tr>\n",
       "      <th>usc000t6yh</th>\n",
       "      <td>2014-12-01 02:56:07.950</td>\n",
       "      <td>21.2031</td>\n",
       "      <td>143.5484</td>\n",
       "      <td>11.05</td>\n",
       "      <td>4.4</td>\n",
       "      <td>mb</td>\n",
       "      <td>NaN</td>\n",
       "      <td>107.0</td>\n",
       "      <td>5.996</td>\n",
       "      <td>0.87</td>\n",
       "      <td>us</td>\n",
       "      <td>2015-02-24T00:35:14.040Z</td>\n",
       "      <td>158km WNW of Farallon de Pajaros, Northern Mar...</td>\n",
       "      <td>earthquake</td>\n",
       "      <td>Northern Mariana Islands</td>\n",
       "    </tr>\n",
       "    <tr>\n",
       "      <th>usc000t6y2</th>\n",
       "      <td>2014-12-01 01:50:23.380</td>\n",
       "      <td>-7.8798</td>\n",
       "      <td>106.4275</td>\n",
       "      <td>52.10</td>\n",
       "      <td>4.3</td>\n",
       "      <td>mb</td>\n",
       "      <td>NaN</td>\n",
       "      <td>119.0</td>\n",
       "      <td>1.412</td>\n",
       "      <td>1.50</td>\n",
       "      <td>us</td>\n",
       "      <td>2015-02-24T00:35:14.040Z</td>\n",
       "      <td>57km SSW of Cibungur, Indonesia</td>\n",
       "      <td>earthquake</td>\n",
       "      <td>Indonesia</td>\n",
       "    </tr>\n",
       "    <tr>\n",
       "      <th>usc000t6y1</th>\n",
       "      <td>2014-12-01 01:04:17.890</td>\n",
       "      <td>7.1429</td>\n",
       "      <td>126.8844</td>\n",
       "      <td>176.67</td>\n",
       "      <td>4.3</td>\n",
       "      <td>mb</td>\n",
       "      <td>NaN</td>\n",
       "      <td>134.0</td>\n",
       "      <td>1.297</td>\n",
       "      <td>0.87</td>\n",
       "      <td>us</td>\n",
       "      <td>2015-02-24T00:35:14.040Z</td>\n",
       "      <td>37km ESE of Santiago, Philippines</td>\n",
       "      <td>earthquake</td>\n",
       "      <td>Philippines</td>\n",
       "    </tr>\n",
       "    <tr>\n",
       "      <th>usb000t1gp</th>\n",
       "      <td>2014-12-01 00:40:02.720</td>\n",
       "      <td>37.2096</td>\n",
       "      <td>71.9458</td>\n",
       "      <td>95.57</td>\n",
       "      <td>4.2</td>\n",
       "      <td>mb</td>\n",
       "      <td>NaN</td>\n",
       "      <td>125.0</td>\n",
       "      <td>1.097</td>\n",
       "      <td>0.91</td>\n",
       "      <td>us</td>\n",
       "      <td>2015-02-24T00:35:14.040Z</td>\n",
       "      <td>11km ESE of Roshtqal'a, Tajikistan</td>\n",
       "      <td>earthquake</td>\n",
       "      <td>Tajikistan</td>\n",
       "    </tr>\n",
       "    <tr>\n",
       "      <th>usc000t6yn</th>\n",
       "      <td>2014-12-01 00:24:33.140</td>\n",
       "      <td>-24.6340</td>\n",
       "      <td>-179.6018</td>\n",
       "      <td>470.86</td>\n",
       "      <td>4.5</td>\n",
       "      <td>mb</td>\n",
       "      <td>NaN</td>\n",
       "      <td>131.0</td>\n",
       "      <td>10.547</td>\n",
       "      <td>0.74</td>\n",
       "      <td>us</td>\n",
       "      <td>2015-02-24T00:35:14.040Z</td>\n",
       "      <td>South of the Fiji Islands</td>\n",
       "      <td>earthquake</td>\n",
       "      <td>South of the Fiji Islands</td>\n",
       "    </tr>\n",
       "  </tbody>\n",
       "</table>\n",
       "<p>16371 rows × 15 columns</p>\n",
       "</div>"
      ],
      "text/plain": [
       "                              time  latitude  longitude   depth  mag magType  \\\n",
       "id                                                                             \n",
       "usc000mqlp 2014-01-31 23:08:03.660   -4.9758   153.9466  110.18  4.2      mb   \n",
       "usc000mqln 2014-01-31 22:54:32.970  -28.1775  -177.9058   95.84  4.3      mb   \n",
       "usc000mqls 2014-01-31 22:49:49.740  -23.1192   179.1174  528.34  4.4      mb   \n",
       "usc000mf1x 2014-01-31 22:19:44.330   51.1569  -178.0910   37.50  4.2      mb   \n",
       "usc000mqlm 2014-01-31 21:56:44.320   -4.8800   153.8434  112.66  4.3      mb   \n",
       "...                            ...       ...        ...     ...  ...     ...   \n",
       "usc000t6yh 2014-12-01 02:56:07.950   21.2031   143.5484   11.05  4.4      mb   \n",
       "usc000t6y2 2014-12-01 01:50:23.380   -7.8798   106.4275   52.10  4.3      mb   \n",
       "usc000t6y1 2014-12-01 01:04:17.890    7.1429   126.8844  176.67  4.3      mb   \n",
       "usb000t1gp 2014-12-01 00:40:02.720   37.2096    71.9458   95.57  4.2      mb   \n",
       "usc000t6yn 2014-12-01 00:24:33.140  -24.6340  -179.6018  470.86  4.5      mb   \n",
       "\n",
       "            nst    gap    dmin   rms net                   updated  \\\n",
       "id                                                                   \n",
       "usc000mqlp  NaN   98.0   1.940  0.61  us  2014-04-08T01:43:19.000Z   \n",
       "usc000mqln  NaN  104.0   1.063  1.14  us  2014-04-08T01:43:19.000Z   \n",
       "usc000mqls  NaN   80.0   5.439  0.95  us  2014-04-08T01:43:19.000Z   \n",
       "usc000mf1x  NaN    NaN     NaN  0.83  us  2014-04-08T01:43:19.000Z   \n",
       "usc000mqlm  NaN  199.0   1.808  0.79  us  2014-04-08T01:43:19.000Z   \n",
       "...         ...    ...     ...   ...  ..                       ...   \n",
       "usc000t6yh  NaN  107.0   5.996  0.87  us  2015-02-24T00:35:14.040Z   \n",
       "usc000t6y2  NaN  119.0   1.412  1.50  us  2015-02-24T00:35:14.040Z   \n",
       "usc000t6y1  NaN  134.0   1.297  0.87  us  2015-02-24T00:35:14.040Z   \n",
       "usb000t1gp  NaN  125.0   1.097  0.91  us  2015-02-24T00:35:14.040Z   \n",
       "usc000t6yn  NaN  131.0  10.547  0.74  us  2015-02-24T00:35:14.040Z   \n",
       "\n",
       "                                                        place        type  \\\n",
       "id                                                                          \n",
       "usc000mqlp               115km ESE of Taron, Papua New Guinea  earthquake   \n",
       "usc000mqln               120km N of Raoul Island, New Zealand  earthquake   \n",
       "usc000mqls                          South of the Fiji Islands  earthquake   \n",
       "usc000mf1x                 72km E of Amatignak Island, Alaska  earthquake   \n",
       "usc000mqlm               100km ESE of Taron, Papua New Guinea  earthquake   \n",
       "...                                                       ...         ...   \n",
       "usc000t6yh  158km WNW of Farallon de Pajaros, Northern Mar...  earthquake   \n",
       "usc000t6y2                    57km SSW of Cibungur, Indonesia  earthquake   \n",
       "usc000t6y1                  37km ESE of Santiago, Philippines  earthquake   \n",
       "usb000t1gp                 11km ESE of Roshtqal'a, Tajikistan  earthquake   \n",
       "usc000t6yn                          South of the Fiji Islands  earthquake   \n",
       "\n",
       "                              country  \n",
       "id                                     \n",
       "usc000mqlp           Papua New Guinea  \n",
       "usc000mqln                New Zealand  \n",
       "usc000mqls  South of the Fiji Islands  \n",
       "usc000mf1x                     Alaska  \n",
       "usc000mqlm           Papua New Guinea  \n",
       "...                               ...  \n",
       "usc000t6yh   Northern Mariana Islands  \n",
       "usc000t6y2                  Indonesia  \n",
       "usc000t6y1                Philippines  \n",
       "usb000t1gp                 Tajikistan  \n",
       "usc000t6yn  South of the Fiji Islands  \n",
       "\n",
       "[16371 rows x 15 columns]"
      ]
     },
     "execution_count": 31,
     "metadata": {},
     "output_type": "execute_result"
    }
   ],
   "source": [
    "df = pd.read_csv('http://www.ldeo.columbia.edu/~rpa/usgs_earthquakes_2014.csv', \n",
    "                 parse_dates=['time'], index_col='id')\n",
    "df['country'] = df.place.str.split(', ').str[-1]\n",
    "df_small = df[df.mag<4]\n",
    "df = df[df.mag>4]\n",
    "df"
   ]
  },
  {
   "cell_type": "code",
   "execution_count": 32,
   "id": "dfad0333-5e23-42e8-8683-78eb4d7b3490",
   "metadata": {},
   "outputs": [
    {
     "data": {
      "text/plain": [
       "<Axes: ylabel='Frequency'>"
      ]
     },
     "execution_count": 32,
     "metadata": {},
     "output_type": "execute_result"
    },
    {
     "data": {
      "image/png": "[encoded data removed]",
      "text/plain": [
       "<Figure size 640x480 with 1 Axes>"
      ]
     },
     "metadata": {},
     "output_type": "display_data"
    }
   ],
   "source": [
    "df.mag.plot(kind='hist',density=True)"
   ]
  },
  {
   "cell_type": "code",
   "execution_count": 33,
   "id": "17b0d6d0-eda9-47ba-a46d-0c6bbb72eff5",
   "metadata": {},
   "outputs": [],
   "source": [
    "# You can save a local copy by .to_csv \n",
    "df.to_csv('my_own_copy.csv')"
   ]
  },
  {
   "cell_type": "markdown",
   "id": "df8a5a08",
   "metadata": {},
   "source": [
    "- One of the most powerful functions of Pandas is groupby, which allows you to do operations on data grouped by different attributes. It takes practice to get \"good\" at groupby, but worth it. "
   ]
  },
  {
   "cell_type": "markdown",
   "id": "927a0084",
   "metadata": {},
   "source": [
    "The workflow with groupby can be divided into three general steps:\n",
    "\n",
    "1. Split: Partition the data into different groups based on some criterion.\n",
    "\n",
    "2. Apply: Do some caclulation within each group. Different types of “apply” steps might be\n",
    "\n",
    "    (a) Aggregation: Get the mean or max within the group.\n",
    "\n",
    "    (b) Transformation: Normalize all the values within a group\n",
    "\n",
    "    (c) Filtration: Eliminate some groups based on a criterion.\n",
    "\n",
    "3. Combine: Put the results back together into a single object."
   ]
  },
  {
   "cell_type": "markdown",
   "id": "7cb8a9bd",
   "metadata": {},
   "source": [
    "- Here we split by country name"
   ]
  },
  {
   "cell_type": "code",
   "execution_count": 34,
   "id": "8508cb31",
   "metadata": {},
   "outputs": [],
   "source": [
    "gb = df.groupby('country') \n",
    "#list(gb.groups.keys())"
   ]
  },
  {
   "cell_type": "markdown",
   "id": "2de3db3b",
   "metadata": {},
   "source": [
    "- Then we aggregate - in this case we take the magnitude and find the the ten countries with the largest Earthquakes (by MM). Doing groupby first ensures that we don't just get the ten largest earthquakes. We groupby, find the max for each group, then find the then largest."
   ]
  },
  {
   "cell_type": "code",
   "execution_count": 35,
   "id": "1b6ae400",
   "metadata": {},
   "outputs": [
    {
     "data": {
      "text/plain": [
       "country\n",
       "Chile                         8.2\n",
       "Alaska                        7.9\n",
       "Solomon Islands               7.6\n",
       "Papua New Guinea              7.5\n",
       "El Salvador                   7.3\n",
       "Mexico                        7.2\n",
       "Fiji                          7.1\n",
       "Indonesia                     7.1\n",
       "Southern East Pacific Rise    7.0\n",
       "                              6.9\n",
       "Name: mag, dtype: float64"
      ]
     },
     "execution_count": 35,
     "metadata": {},
     "output_type": "execute_result"
    }
   ],
   "source": [
    "gb.mag.max().nlargest(10)"
   ]
  },
  {
   "cell_type": "markdown",
   "id": "830d534f",
   "metadata": {},
   "source": [
    "- Multiple functions can also be done at once"
   ]
  },
  {
   "cell_type": "code",
   "execution_count": 36,
   "id": "4df37764",
   "metadata": {},
   "outputs": [
    {
     "name": "stderr",
     "output_type": "stream",
     "text": [
      "/var/folders/lv/jjy5trsn1m145hdm36820p9c0000gn/T/ipykernel_83428/4070470272.py:1: FutureWarning: The provided callable <built-in function min> is currently using SeriesGroupBy.min. In a future version of pandas, the provided callable will be used directly. To keep current behavior pass the string \"min\" instead.\n",
      "  gb.mag.aggregate([min, max, np.mean])\n",
      "/var/folders/lv/jjy5trsn1m145hdm36820p9c0000gn/T/ipykernel_83428/4070470272.py:1: FutureWarning: The provided callable <built-in function max> is currently using SeriesGroupBy.max. In a future version of pandas, the provided callable will be used directly. To keep current behavior pass the string \"max\" instead.\n",
      "  gb.mag.aggregate([min, max, np.mean])\n",
      "/var/folders/lv/jjy5trsn1m145hdm36820p9c0000gn/T/ipykernel_83428/4070470272.py:1: FutureWarning: The provided callable <function mean at 0x11a4819e0> is currently using SeriesGroupBy.mean. In a future version of pandas, the provided callable will be used directly. To keep current behavior pass the string \"mean\" instead.\n",
      "  gb.mag.aggregate([min, max, np.mean])\n"
     ]
    },
    {
     "data": {
      "text/html": [
       "<div>\n",
       "<style scoped>\n",
       "    .dataframe tbody tr th:only-of-type {\n",
       "        vertical-align: middle;\n",
       "    }\n",
       "\n",
       "    .dataframe tbody tr th {\n",
       "        vertical-align: top;\n",
       "    }\n",
       "\n",
       "    .dataframe thead th {\n",
       "        text-align: right;\n",
       "    }\n",
       "</style>\n",
       "<table border=\"1\" class=\"dataframe\">\n",
       "  <thead>\n",
       "    <tr style=\"text-align: right;\">\n",
       "      <th></th>\n",
       "      <th>min</th>\n",
       "      <th>max</th>\n",
       "      <th>mean</th>\n",
       "    </tr>\n",
       "    <tr>\n",
       "      <th>country</th>\n",
       "      <th></th>\n",
       "      <th></th>\n",
       "      <th></th>\n",
       "    </tr>\n",
       "  </thead>\n",
       "  <tbody>\n",
       "    <tr>\n",
       "      <th></th>\n",
       "      <td>4.1</td>\n",
       "      <td>6.9</td>\n",
       "      <td>4.582544</td>\n",
       "    </tr>\n",
       "    <tr>\n",
       "      <th>Afghanistan</th>\n",
       "      <td>4.1</td>\n",
       "      <td>5.6</td>\n",
       "      <td>4.410656</td>\n",
       "    </tr>\n",
       "    <tr>\n",
       "      <th>Alaska</th>\n",
       "      <td>4.1</td>\n",
       "      <td>7.9</td>\n",
       "      <td>4.515025</td>\n",
       "    </tr>\n",
       "    <tr>\n",
       "      <th>Albania</th>\n",
       "      <td>4.1</td>\n",
       "      <td>5.0</td>\n",
       "      <td>4.391667</td>\n",
       "    </tr>\n",
       "    <tr>\n",
       "      <th>Algeria</th>\n",
       "      <td>4.1</td>\n",
       "      <td>5.5</td>\n",
       "      <td>4.583333</td>\n",
       "    </tr>\n",
       "    <tr>\n",
       "      <th>...</th>\n",
       "      <td>...</td>\n",
       "      <td>...</td>\n",
       "      <td>...</td>\n",
       "    </tr>\n",
       "    <tr>\n",
       "      <th>Zambia</th>\n",
       "      <td>4.1</td>\n",
       "      <td>5.3</td>\n",
       "      <td>4.457143</td>\n",
       "    </tr>\n",
       "    <tr>\n",
       "      <th>north of Ascension Island</th>\n",
       "      <td>4.4</td>\n",
       "      <td>4.4</td>\n",
       "      <td>4.400000</td>\n",
       "    </tr>\n",
       "    <tr>\n",
       "      <th>northern Mid-Atlantic Ridge</th>\n",
       "      <td>4.7</td>\n",
       "      <td>4.7</td>\n",
       "      <td>4.700000</td>\n",
       "    </tr>\n",
       "    <tr>\n",
       "      <th>south of Panama</th>\n",
       "      <td>4.1</td>\n",
       "      <td>4.1</td>\n",
       "      <td>4.100000</td>\n",
       "    </tr>\n",
       "    <tr>\n",
       "      <th>western Xizang</th>\n",
       "      <td>4.5</td>\n",
       "      <td>4.5</td>\n",
       "      <td>4.500000</td>\n",
       "    </tr>\n",
       "  </tbody>\n",
       "</table>\n",
       "<p>262 rows × 3 columns</p>\n",
       "</div>"
      ],
      "text/plain": [
       "                             min  max      mean\n",
       "country                                        \n",
       "                             4.1  6.9  4.582544\n",
       "Afghanistan                  4.1  5.6  4.410656\n",
       "Alaska                       4.1  7.9  4.515025\n",
       "Albania                      4.1  5.0  4.391667\n",
       "Algeria                      4.1  5.5  4.583333\n",
       "...                          ...  ...       ...\n",
       "Zambia                       4.1  5.3  4.457143\n",
       "north of Ascension Island    4.4  4.4  4.400000\n",
       "northern Mid-Atlantic Ridge  4.7  4.7  4.700000\n",
       "south of Panama              4.1  4.1  4.100000\n",
       "western Xizang               4.5  4.5  4.500000\n",
       "\n",
       "[262 rows x 3 columns]"
      ]
     },
     "execution_count": 36,
     "metadata": {},
     "output_type": "execute_result"
    }
   ],
   "source": [
    "gb.mag.aggregate([min, max, np.mean])"
   ]
  },
  {
   "cell_type": "markdown",
   "id": "d5f5c13a",
   "metadata": {},
   "source": [
    "- This can be combined with a plotting function all in a single line of code"
   ]
  },
  {
   "cell_type": "code",
   "execution_count": 37,
   "id": "5e37da7c",
   "metadata": {},
   "outputs": [
    {
     "data": {
      "text/plain": [
       "<Axes: xlabel='country'>"
      ]
     },
     "execution_count": 37,
     "metadata": {},
     "output_type": "execute_result"
    },
    {
     "data": {
      "image/png": "[encoded data removed]",
      "text/plain": [
       "<Figure size 1200x600 with 1 Axes>"
      ]
     },
     "metadata": {},
     "output_type": "display_data"
    }
   ],
   "source": [
    "df.groupby('country').mag.count().nlargest(20).plot(kind='bar', figsize=(12,6)) \n",
    "#bar graph of countries by number of earthquakes"
   ]
  },
  {
   "cell_type": "markdown",
   "id": "a5a1e130",
   "metadata": {},
   "source": [
    "The key difference between aggregation and transformation is that aggregation returns a smaller object than the original, indexed by the group keys, while transformation returns an object with the same index (and same size) as the original object. Groupby + transformation is used when applying an operation that requires information about the whole group. Here we normalize earthquakes by magnitude within country grouping"
   ]
  },
  {
   "cell_type": "code",
   "execution_count": 38,
   "id": "27482dbc",
   "metadata": {},
   "outputs": [
    {
     "data": {
      "text/plain": [
       "id\n",
       "usc000mqlp   -0.915774\n",
       "usc000mqln   -0.675696\n",
       "usc000mqls   -0.282385\n",
       "usc000mf1x   -0.684915\n",
       "usc000mqlm   -0.666807\n",
       "                ...   \n",
       "usc000t6yh   -0.281723\n",
       "usc000t6y2   -0.451617\n",
       "usc000t6y1   -0.627247\n",
       "usb000t1gp   -0.629262\n",
       "usc000t6yn    0.043277\n",
       "Name: mag, Length: 16371, dtype: float64"
      ]
     },
     "execution_count": 38,
     "metadata": {},
     "output_type": "execute_result"
    }
   ],
   "source": [
    "def normalize(x):\n",
    "    return (x - x.mean())/x.std()\n",
    "\n",
    "mag_normalized_by_country = gb.mag.transform(normalize)\n",
    "mag_normalized_by_country"
   ]
  },
  {
   "cell_type": "code",
   "execution_count": null,
   "id": "2cd1889f-c7ba-4b0d-a20c-414537419375",
   "metadata": {},
   "outputs": [],
   "source": []
  }
 ],
 "metadata": {
  "kernelspec": {
   "display_name": "Python 3 (ipykernel)",
   "language": "python",
   "name": "python3"
  },
  "language_info": {
   "codemirror_mode": {
    "name": "ipython",
    "version": 3
   },
   "file_extension": ".py",
   "mimetype": "text/x-python",
   "name": "python",
   "nbconvert_exporter": "python",
   "pygments_lexer": "ipython3",
   "version": "3.12.1"
  }
 },
 "nbformat": 4,
 "nbformat_minor": 5
}
