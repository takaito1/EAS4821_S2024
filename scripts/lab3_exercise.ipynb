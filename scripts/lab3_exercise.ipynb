{
  "nbformat": 4,
  "nbformat_minor": 0,
  "metadata": {
    "colab": {
      "provenance": [],
      "authorship_tag": "ABX9TyNc93TfpIQ2XgLomvvMAqv5",
      "include_colab_link": true
    },
    "kernelspec": {
      "name": "python3",
      "display_name": "Python 3"
    },
    "language_info": {
      "name": "python"
    }
  },
  "cells": [
    {
      "cell_type": "markdown",
      "metadata": {
        "id": "view-in-github",
        "colab_type": "text"
      },
      "source": [
        "<a href=\"https://colab.research.google.com/github/takaito1/EAS4821_S2024/blob/main/scripts/lab3_exercise.ipynb\" target=\"_parent\"><img src=\"https://colab.research.google.com/assets/colab-badge.svg\" alt=\"Open In Colab\"/></a>"
      ]
    },
    {
      "cell_type": "markdown",
      "source": [
        "# Lab3: The t-test and confidence interval\n",
        "\n",
        "Pick a US city other than Atlanta (you can re-use the data from past weeks or download a new one).\n",
        "\n",
        "1. Test whether or not the mean July temperature for recent decade (2014-2023) is significantly warmer than the long term average. Follow the 5 steps discussed in the class to perform the one-tail t-test.\n",
        "\n",
        "2. Test whether or not the mean July temperature for recent decade (2014-2023) is significantly different from the average over 1980s (1981-1990). Again, follow the 5 steps discussed in the class. Should you be using one-tail or two-tail test? Explain your choice.\n",
        "\n",
        "3. Consider testing a new laboratory instrument by measuring the same sample 10 times. The measurements are x = [9.8, 10.1, 10.2, 9.7, 9.6, 10.5, 10.4, 9.9, 10.2, 10.3].\n",
        "\n",
        "          - What are the standard deviation and standard error of this measurement? Explain the difference in your own words.\n",
        "\n",
        "          - Calculate the 95% confidence interval on the true mean. (Since N=10, you need to use the Student's t-distribution for this calculation)"
      ],
      "metadata": {
        "id": "3Mpfm7r-bi5v"
      }
    },
    {
      "cell_type": "code",
      "execution_count": 3,
      "metadata": {
        "colab": {
          "base_uri": "https://localhost:8080/"
        },
        "id": "WEp_qMgcbabu",
        "outputId": "108cbc91-0264-4167-ab49-23d1f2de8aa8"
      },
      "outputs": [
        {
          "output_type": "stream",
          "name": "stdout",
          "text": [
            "Mounted at /content/drive\n"
          ]
        }
      ],
      "source": [
        "import numpy as np\n",
        "import matplotlib.pyplot as plt\n",
        "from scipy.stats import t as tdist\n",
        "import pandas as pd\n",
        "from google.colab import drive\n",
        "drive.mount('/content/drive')"
      ]
    },
    {
      "cell_type": "code",
      "source": [
        "# get data : boston.csv\n",
        "df = pd.read_csv('/content/drive/MyDrive/EAS2655_4821/boston.csv',\n",
        "                 na_values=-999,index_col=0)\n",
        "df"
      ],
      "metadata": {
        "colab": {
          "base_uri": "https://localhost:8080/",
          "height": 455
        },
        "id": "NEZlxv0xeC91",
        "outputId": "14163915-7e00-44db-de08-01b3283258f0"
      },
      "execution_count": 5,
      "outputs": [
        {
          "output_type": "execute_result",
          "data": {
            "text/plain": [
              "       JAN   FEB   MAR   APR   MAY   JUN   JUL   AUG   SEP   OCT   NOV   DEC  \\\n",
              "YEAR                                                                           \n",
              "1872   NaN   NaN  26.5  46.6  59.3  68.9  75.7  73.0  64.4  51.9  40.6  23.1   \n",
              "1873  25.1  26.4  33.9  44.9  56.5  67.3  72.9  69.8  62.8  53.5  33.3  32.1   \n",
              "1874  30.5  27.0  34.4  38.8  55.5  66.1  72.9  68.1  64.4  53.2  41.6  31.3   \n",
              "1875  20.1  22.3  31.3  42.5  57.9  66.7  72.1  71.0  59.6  50.1  34.9  29.6   \n",
              "1876  30.7  27.5  33.5  43.9  54.6  68.9  74.0  70.3  59.9  48.3  41.4  22.2   \n",
              "...    ...   ...   ...   ...   ...   ...   ...   ...   ...   ...   ...   ...   \n",
              "2019  30.7  33.5  39.1  51.7  57.8  68.2  78.7  74.1  68.0  57.4  42.8  37.2   \n",
              "2020  38.0  37.8  41.8  44.6  56.8  69.2  75.3  74.1  65.6  54.7  48.0  36.0   \n",
              "2021  31.0  30.8  42.0  50.8  61.4  74.4  72.4  76.9  69.7  59.9  44.7  39.2   \n",
              "2022  27.4  33.1  41.4  50.1  60.6  67.9  77.5  76.7  65.2  56.6  49.0  37.3   \n",
              "2023  37.8  34.9  40.8  50.8  60.1  65.9  75.4  71.8  67.4  59.2  43.0  40.8   \n",
              "\n",
              "      ANNUAL  \n",
              "YEAR          \n",
              "1872    53.0  \n",
              "1873    48.2  \n",
              "1874    48.6  \n",
              "1875    46.5  \n",
              "1876    47.9  \n",
              "...      ...  \n",
              "2019    53.3  \n",
              "2020    53.5  \n",
              "2021    54.4  \n",
              "2022    53.6  \n",
              "2023    54.0  \n",
              "\n",
              "[152 rows x 13 columns]"
            ],
            "text/html": [
              "\n",
              "  <div id=\"df-1c7a3157-d34d-4311-828f-78a9172258fb\" class=\"colab-df-container\">\n",
              "    <div>\n",
              "<style scoped>\n",
              "    .dataframe tbody tr th:only-of-type {\n",
              "        vertical-align: middle;\n",
              "    }\n",
              "\n",
              "    .dataframe tbody tr th {\n",
              "        vertical-align: top;\n",
              "    }\n",
              "\n",
              "    .dataframe thead th {\n",
              "        text-align: right;\n",
              "    }\n",
              "</style>\n",
              "<table border=\"1\" class=\"dataframe\">\n",
              "  <thead>\n",
              "    <tr style=\"text-align: right;\">\n",
              "      <th></th>\n",
              "      <th>JAN</th>\n",
              "      <th>FEB</th>\n",
              "      <th>MAR</th>\n",
              "      <th>APR</th>\n",
              "      <th>MAY</th>\n",
              "      <th>JUN</th>\n",
              "      <th>JUL</th>\n",
              "      <th>AUG</th>\n",
              "      <th>SEP</th>\n",
              "      <th>OCT</th>\n",
              "      <th>NOV</th>\n",
              "      <th>DEC</th>\n",
              "      <th>ANNUAL</th>\n",
              "    </tr>\n",
              "    <tr>\n",
              "      <th>YEAR</th>\n",
              "      <th></th>\n",
              "      <th></th>\n",
              "      <th></th>\n",
              "      <th></th>\n",
              "      <th></th>\n",
              "      <th></th>\n",
              "      <th></th>\n",
              "      <th></th>\n",
              "      <th></th>\n",
              "      <th></th>\n",
              "      <th></th>\n",
              "      <th></th>\n",
              "      <th></th>\n",
              "    </tr>\n",
              "  </thead>\n",
              "  <tbody>\n",
              "    <tr>\n",
              "      <th>1872</th>\n",
              "      <td>NaN</td>\n",
              "      <td>NaN</td>\n",
              "      <td>26.5</td>\n",
              "      <td>46.6</td>\n",
              "      <td>59.3</td>\n",
              "      <td>68.9</td>\n",
              "      <td>75.7</td>\n",
              "      <td>73.0</td>\n",
              "      <td>64.4</td>\n",
              "      <td>51.9</td>\n",
              "      <td>40.6</td>\n",
              "      <td>23.1</td>\n",
              "      <td>53.0</td>\n",
              "    </tr>\n",
              "    <tr>\n",
              "      <th>1873</th>\n",
              "      <td>25.1</td>\n",
              "      <td>26.4</td>\n",
              "      <td>33.9</td>\n",
              "      <td>44.9</td>\n",
              "      <td>56.5</td>\n",
              "      <td>67.3</td>\n",
              "      <td>72.9</td>\n",
              "      <td>69.8</td>\n",
              "      <td>62.8</td>\n",
              "      <td>53.5</td>\n",
              "      <td>33.3</td>\n",
              "      <td>32.1</td>\n",
              "      <td>48.2</td>\n",
              "    </tr>\n",
              "    <tr>\n",
              "      <th>1874</th>\n",
              "      <td>30.5</td>\n",
              "      <td>27.0</td>\n",
              "      <td>34.4</td>\n",
              "      <td>38.8</td>\n",
              "      <td>55.5</td>\n",
              "      <td>66.1</td>\n",
              "      <td>72.9</td>\n",
              "      <td>68.1</td>\n",
              "      <td>64.4</td>\n",
              "      <td>53.2</td>\n",
              "      <td>41.6</td>\n",
              "      <td>31.3</td>\n",
              "      <td>48.6</td>\n",
              "    </tr>\n",
              "    <tr>\n",
              "      <th>1875</th>\n",
              "      <td>20.1</td>\n",
              "      <td>22.3</td>\n",
              "      <td>31.3</td>\n",
              "      <td>42.5</td>\n",
              "      <td>57.9</td>\n",
              "      <td>66.7</td>\n",
              "      <td>72.1</td>\n",
              "      <td>71.0</td>\n",
              "      <td>59.6</td>\n",
              "      <td>50.1</td>\n",
              "      <td>34.9</td>\n",
              "      <td>29.6</td>\n",
              "      <td>46.5</td>\n",
              "    </tr>\n",
              "    <tr>\n",
              "      <th>1876</th>\n",
              "      <td>30.7</td>\n",
              "      <td>27.5</td>\n",
              "      <td>33.5</td>\n",
              "      <td>43.9</td>\n",
              "      <td>54.6</td>\n",
              "      <td>68.9</td>\n",
              "      <td>74.0</td>\n",
              "      <td>70.3</td>\n",
              "      <td>59.9</td>\n",
              "      <td>48.3</td>\n",
              "      <td>41.4</td>\n",
              "      <td>22.2</td>\n",
              "      <td>47.9</td>\n",
              "    </tr>\n",
              "    <tr>\n",
              "      <th>...</th>\n",
              "      <td>...</td>\n",
              "      <td>...</td>\n",
              "      <td>...</td>\n",
              "      <td>...</td>\n",
              "      <td>...</td>\n",
              "      <td>...</td>\n",
              "      <td>...</td>\n",
              "      <td>...</td>\n",
              "      <td>...</td>\n",
              "      <td>...</td>\n",
              "      <td>...</td>\n",
              "      <td>...</td>\n",
              "      <td>...</td>\n",
              "    </tr>\n",
              "    <tr>\n",
              "      <th>2019</th>\n",
              "      <td>30.7</td>\n",
              "      <td>33.5</td>\n",
              "      <td>39.1</td>\n",
              "      <td>51.7</td>\n",
              "      <td>57.8</td>\n",
              "      <td>68.2</td>\n",
              "      <td>78.7</td>\n",
              "      <td>74.1</td>\n",
              "      <td>68.0</td>\n",
              "      <td>57.4</td>\n",
              "      <td>42.8</td>\n",
              "      <td>37.2</td>\n",
              "      <td>53.3</td>\n",
              "    </tr>\n",
              "    <tr>\n",
              "      <th>2020</th>\n",
              "      <td>38.0</td>\n",
              "      <td>37.8</td>\n",
              "      <td>41.8</td>\n",
              "      <td>44.6</td>\n",
              "      <td>56.8</td>\n",
              "      <td>69.2</td>\n",
              "      <td>75.3</td>\n",
              "      <td>74.1</td>\n",
              "      <td>65.6</td>\n",
              "      <td>54.7</td>\n",
              "      <td>48.0</td>\n",
              "      <td>36.0</td>\n",
              "      <td>53.5</td>\n",
              "    </tr>\n",
              "    <tr>\n",
              "      <th>2021</th>\n",
              "      <td>31.0</td>\n",
              "      <td>30.8</td>\n",
              "      <td>42.0</td>\n",
              "      <td>50.8</td>\n",
              "      <td>61.4</td>\n",
              "      <td>74.4</td>\n",
              "      <td>72.4</td>\n",
              "      <td>76.9</td>\n",
              "      <td>69.7</td>\n",
              "      <td>59.9</td>\n",
              "      <td>44.7</td>\n",
              "      <td>39.2</td>\n",
              "      <td>54.4</td>\n",
              "    </tr>\n",
              "    <tr>\n",
              "      <th>2022</th>\n",
              "      <td>27.4</td>\n",
              "      <td>33.1</td>\n",
              "      <td>41.4</td>\n",
              "      <td>50.1</td>\n",
              "      <td>60.6</td>\n",
              "      <td>67.9</td>\n",
              "      <td>77.5</td>\n",
              "      <td>76.7</td>\n",
              "      <td>65.2</td>\n",
              "      <td>56.6</td>\n",
              "      <td>49.0</td>\n",
              "      <td>37.3</td>\n",
              "      <td>53.6</td>\n",
              "    </tr>\n",
              "    <tr>\n",
              "      <th>2023</th>\n",
              "      <td>37.8</td>\n",
              "      <td>34.9</td>\n",
              "      <td>40.8</td>\n",
              "      <td>50.8</td>\n",
              "      <td>60.1</td>\n",
              "      <td>65.9</td>\n",
              "      <td>75.4</td>\n",
              "      <td>71.8</td>\n",
              "      <td>67.4</td>\n",
              "      <td>59.2</td>\n",
              "      <td>43.0</td>\n",
              "      <td>40.8</td>\n",
              "      <td>54.0</td>\n",
              "    </tr>\n",
              "  </tbody>\n",
              "</table>\n",
              "<p>152 rows × 13 columns</p>\n",
              "</div>\n",
              "    <div class=\"colab-df-buttons\">\n",
              "\n",
              "  <div class=\"colab-df-container\">\n",
              "    <button class=\"colab-df-convert\" onclick=\"convertToInteractive('df-1c7a3157-d34d-4311-828f-78a9172258fb')\"\n",
              "            title=\"Convert this dataframe to an interactive table.\"\n",
              "            style=\"display:none;\">\n",
              "\n",
              "  <svg xmlns=\"http://www.w3.org/2000/svg\" height=\"24px\" viewBox=\"0 -960 960 960\">\n",
              "    <path d=\"M120-120v-720h720v720H120Zm60-500h600v-160H180v160Zm220 220h160v-160H400v160Zm0 220h160v-160H400v160ZM180-400h160v-160H180v160Zm440 0h160v-160H620v160ZM180-180h160v-160H180v160Zm440 0h160v-160H620v160Z\"/>\n",
              "  </svg>\n",
              "    </button>\n",
              "\n",
              "  <style>\n",
              "    .colab-df-container {\n",
              "      display:flex;\n",
              "      gap: 12px;\n",
              "    }\n",
              "\n",
              "    .colab-df-convert {\n",
              "      background-color: #E8F0FE;\n",
              "      border: none;\n",
              "      border-radius: 50%;\n",
              "      cursor: pointer;\n",
              "      display: none;\n",
              "      fill: #1967D2;\n",
              "      height: 32px;\n",
              "      padding: 0 0 0 0;\n",
              "      width: 32px;\n",
              "    }\n",
              "\n",
              "    .colab-df-convert:hover {\n",
              "      background-color: #E2EBFA;\n",
              "      box-shadow: 0px 1px 2px rgba(60, 64, 67, 0.3), 0px 1px 3px 1px rgba(60, 64, 67, 0.15);\n",
              "      fill: #174EA6;\n",
              "    }\n",
              "\n",
              "    .colab-df-buttons div {\n",
              "      margin-bottom: 4px;\n",
              "    }\n",
              "\n",
              "    [theme=dark] .colab-df-convert {\n",
              "      background-color: #3B4455;\n",
              "      fill: #D2E3FC;\n",
              "    }\n",
              "\n",
              "    [theme=dark] .colab-df-convert:hover {\n",
              "      background-color: #434B5C;\n",
              "      box-shadow: 0px 1px 3px 1px rgba(0, 0, 0, 0.15);\n",
              "      filter: drop-shadow(0px 1px 2px rgba(0, 0, 0, 0.3));\n",
              "      fill: #FFFFFF;\n",
              "    }\n",
              "  </style>\n",
              "\n",
              "    <script>\n",
              "      const buttonEl =\n",
              "        document.querySelector('#df-1c7a3157-d34d-4311-828f-78a9172258fb button.colab-df-convert');\n",
              "      buttonEl.style.display =\n",
              "        google.colab.kernel.accessAllowed ? 'block' : 'none';\n",
              "\n",
              "      async function convertToInteractive(key) {\n",
              "        const element = document.querySelector('#df-1c7a3157-d34d-4311-828f-78a9172258fb');\n",
              "        const dataTable =\n",
              "          await google.colab.kernel.invokeFunction('convertToInteractive',\n",
              "                                                    [key], {});\n",
              "        if (!dataTable) return;\n",
              "\n",
              "        const docLinkHtml = 'Like what you see? Visit the ' +\n",
              "          '<a target=\"_blank\" href=https://colab.research.google.com/notebooks/data_table.ipynb>data table notebook</a>'\n",
              "          + ' to learn more about interactive tables.';\n",
              "        element.innerHTML = '';\n",
              "        dataTable['output_type'] = 'display_data';\n",
              "        await google.colab.output.renderOutput(dataTable, element);\n",
              "        const docLink = document.createElement('div');\n",
              "        docLink.innerHTML = docLinkHtml;\n",
              "        element.appendChild(docLink);\n",
              "      }\n",
              "    </script>\n",
              "  </div>\n",
              "\n",
              "\n",
              "<div id=\"df-79f14344-caf5-4bd1-bd6b-aa987c5ecf1b\">\n",
              "  <button class=\"colab-df-quickchart\" onclick=\"quickchart('df-79f14344-caf5-4bd1-bd6b-aa987c5ecf1b')\"\n",
              "            title=\"Suggest charts\"\n",
              "            style=\"display:none;\">\n",
              "\n",
              "<svg xmlns=\"http://www.w3.org/2000/svg\" height=\"24px\"viewBox=\"0 0 24 24\"\n",
              "     width=\"24px\">\n",
              "    <g>\n",
              "        <path d=\"M19 3H5c-1.1 0-2 .9-2 2v14c0 1.1.9 2 2 2h14c1.1 0 2-.9 2-2V5c0-1.1-.9-2-2-2zM9 17H7v-7h2v7zm4 0h-2V7h2v10zm4 0h-2v-4h2v4z\"/>\n",
              "    </g>\n",
              "</svg>\n",
              "  </button>\n",
              "\n",
              "<style>\n",
              "  .colab-df-quickchart {\n",
              "      --bg-color: #E8F0FE;\n",
              "      --fill-color: #1967D2;\n",
              "      --hover-bg-color: #E2EBFA;\n",
              "      --hover-fill-color: #174EA6;\n",
              "      --disabled-fill-color: #AAA;\n",
              "      --disabled-bg-color: #DDD;\n",
              "  }\n",
              "\n",
              "  [theme=dark] .colab-df-quickchart {\n",
              "      --bg-color: #3B4455;\n",
              "      --fill-color: #D2E3FC;\n",
              "      --hover-bg-color: #434B5C;\n",
              "      --hover-fill-color: #FFFFFF;\n",
              "      --disabled-bg-color: #3B4455;\n",
              "      --disabled-fill-color: #666;\n",
              "  }\n",
              "\n",
              "  .colab-df-quickchart {\n",
              "    background-color: var(--bg-color);\n",
              "    border: none;\n",
              "    border-radius: 50%;\n",
              "    cursor: pointer;\n",
              "    display: none;\n",
              "    fill: var(--fill-color);\n",
              "    height: 32px;\n",
              "    padding: 0;\n",
              "    width: 32px;\n",
              "  }\n",
              "\n",
              "  .colab-df-quickchart:hover {\n",
              "    background-color: var(--hover-bg-color);\n",
              "    box-shadow: 0 1px 2px rgba(60, 64, 67, 0.3), 0 1px 3px 1px rgba(60, 64, 67, 0.15);\n",
              "    fill: var(--button-hover-fill-color);\n",
              "  }\n",
              "\n",
              "  .colab-df-quickchart-complete:disabled,\n",
              "  .colab-df-quickchart-complete:disabled:hover {\n",
              "    background-color: var(--disabled-bg-color);\n",
              "    fill: var(--disabled-fill-color);\n",
              "    box-shadow: none;\n",
              "  }\n",
              "\n",
              "  .colab-df-spinner {\n",
              "    border: 2px solid var(--fill-color);\n",
              "    border-color: transparent;\n",
              "    border-bottom-color: var(--fill-color);\n",
              "    animation:\n",
              "      spin 1s steps(1) infinite;\n",
              "  }\n",
              "\n",
              "  @keyframes spin {\n",
              "    0% {\n",
              "      border-color: transparent;\n",
              "      border-bottom-color: var(--fill-color);\n",
              "      border-left-color: var(--fill-color);\n",
              "    }\n",
              "    20% {\n",
              "      border-color: transparent;\n",
              "      border-left-color: var(--fill-color);\n",
              "      border-top-color: var(--fill-color);\n",
              "    }\n",
              "    30% {\n",
              "      border-color: transparent;\n",
              "      border-left-color: var(--fill-color);\n",
              "      border-top-color: var(--fill-color);\n",
              "      border-right-color: var(--fill-color);\n",
              "    }\n",
              "    40% {\n",
              "      border-color: transparent;\n",
              "      border-right-color: var(--fill-color);\n",
              "      border-top-color: var(--fill-color);\n",
              "    }\n",
              "    60% {\n",
              "      border-color: transparent;\n",
              "      border-right-color: var(--fill-color);\n",
              "    }\n",
              "    80% {\n",
              "      border-color: transparent;\n",
              "      border-right-color: var(--fill-color);\n",
              "      border-bottom-color: var(--fill-color);\n",
              "    }\n",
              "    90% {\n",
              "      border-color: transparent;\n",
              "      border-bottom-color: var(--fill-color);\n",
              "    }\n",
              "  }\n",
              "</style>\n",
              "\n",
              "  <script>\n",
              "    async function quickchart(key) {\n",
              "      const quickchartButtonEl =\n",
              "        document.querySelector('#' + key + ' button');\n",
              "      quickchartButtonEl.disabled = true;  // To prevent multiple clicks.\n",
              "      quickchartButtonEl.classList.add('colab-df-spinner');\n",
              "      try {\n",
              "        const charts = await google.colab.kernel.invokeFunction(\n",
              "            'suggestCharts', [key], {});\n",
              "      } catch (error) {\n",
              "        console.error('Error during call to suggestCharts:', error);\n",
              "      }\n",
              "      quickchartButtonEl.classList.remove('colab-df-spinner');\n",
              "      quickchartButtonEl.classList.add('colab-df-quickchart-complete');\n",
              "    }\n",
              "    (() => {\n",
              "      let quickchartButtonEl =\n",
              "        document.querySelector('#df-79f14344-caf5-4bd1-bd6b-aa987c5ecf1b button');\n",
              "      quickchartButtonEl.style.display =\n",
              "        google.colab.kernel.accessAllowed ? 'block' : 'none';\n",
              "    })();\n",
              "  </script>\n",
              "</div>\n",
              "\n",
              "  <div id=\"id_70e1fb9a-54ef-4484-8d68-11063f928a61\">\n",
              "    <style>\n",
              "      .colab-df-generate {\n",
              "        background-color: #E8F0FE;\n",
              "        border: none;\n",
              "        border-radius: 50%;\n",
              "        cursor: pointer;\n",
              "        display: none;\n",
              "        fill: #1967D2;\n",
              "        height: 32px;\n",
              "        padding: 0 0 0 0;\n",
              "        width: 32px;\n",
              "      }\n",
              "\n",
              "      .colab-df-generate:hover {\n",
              "        background-color: #E2EBFA;\n",
              "        box-shadow: 0px 1px 2px rgba(60, 64, 67, 0.3), 0px 1px 3px 1px rgba(60, 64, 67, 0.15);\n",
              "        fill: #174EA6;\n",
              "      }\n",
              "\n",
              "      [theme=dark] .colab-df-generate {\n",
              "        background-color: #3B4455;\n",
              "        fill: #D2E3FC;\n",
              "      }\n",
              "\n",
              "      [theme=dark] .colab-df-generate:hover {\n",
              "        background-color: #434B5C;\n",
              "        box-shadow: 0px 1px 3px 1px rgba(0, 0, 0, 0.15);\n",
              "        filter: drop-shadow(0px 1px 2px rgba(0, 0, 0, 0.3));\n",
              "        fill: #FFFFFF;\n",
              "      }\n",
              "    </style>\n",
              "    <button class=\"colab-df-generate\" onclick=\"generateWithVariable('df')\"\n",
              "            title=\"Generate code using this dataframe.\"\n",
              "            style=\"display:none;\">\n",
              "\n",
              "  <svg xmlns=\"http://www.w3.org/2000/svg\" height=\"24px\"viewBox=\"0 0 24 24\"\n",
              "       width=\"24px\">\n",
              "    <path d=\"M7,19H8.4L18.45,9,17,7.55,7,17.6ZM5,21V16.75L18.45,3.32a2,2,0,0,1,2.83,0l1.4,1.43a1.91,1.91,0,0,1,.58,1.4,1.91,1.91,0,0,1-.58,1.4L9.25,21ZM18.45,9,17,7.55Zm-12,3A5.31,5.31,0,0,0,4.9,8.1,5.31,5.31,0,0,0,1,6.5,5.31,5.31,0,0,0,4.9,4.9,5.31,5.31,0,0,0,6.5,1,5.31,5.31,0,0,0,8.1,4.9,5.31,5.31,0,0,0,12,6.5,5.46,5.46,0,0,0,6.5,12Z\"/>\n",
              "  </svg>\n",
              "    </button>\n",
              "    <script>\n",
              "      (() => {\n",
              "      const buttonEl =\n",
              "        document.querySelector('#id_70e1fb9a-54ef-4484-8d68-11063f928a61 button.colab-df-generate');\n",
              "      buttonEl.style.display =\n",
              "        google.colab.kernel.accessAllowed ? 'block' : 'none';\n",
              "\n",
              "      buttonEl.onclick = () => {\n",
              "        google.colab.notebook.generateWithVariable('df');\n",
              "      }\n",
              "      })();\n",
              "    </script>\n",
              "  </div>\n",
              "\n",
              "    </div>\n",
              "  </div>\n"
            ]
          },
          "metadata": {},
          "execution_count": 5
        }
      ]
    },
    {
      "cell_type": "markdown",
      "source": [
        "- Test whether or not the mean July temperature for recent decade (2014-2023) is significantly warmer than the long term average. Follow the 5 steps discussed in the class to perform the one-tail t-test."
      ],
      "metadata": {
        "id": "-dH4iifJfGyL"
      }
    },
    {
      "cell_type": "code",
      "source": [
        "# take a look at the data first\n",
        "df['JUL'].plot()\n",
        "df['JUL'].loc[2014:2023].plot(color='r')\n",
        "df['JUL'].loc[1981:1990].plot(color='g')\n",
        "plt.xlabel('time')\n",
        "plt.ylabel('JUL temperature, deg F')"
      ],
      "metadata": {
        "colab": {
          "base_uri": "https://localhost:8080/",
          "height": 466
        },
        "id": "eCimMI0QeURk",
        "outputId": "d03dfcb3-d824-4e6c-a56e-c2e796587866"
      },
      "execution_count": 19,
      "outputs": [
        {
          "output_type": "execute_result",
          "data": {
            "text/plain": [
              "Text(0, 0.5, 'JUL temperature, deg F')"
            ]
          },
          "metadata": {},
          "execution_count": 19
        },
        {
          "output_type": "display_data",
          "data": {
            "text/plain": [
              "<Figure size 640x480 with 1 Axes>"
            ],
            "image/png": "[encoded data removed]"
          },
          "metadata": {}
        }
      ]
    },
    {
      "cell_type": "code",
      "source": [
        "# get the relevant data\n",
        "mu = df['JUL'].mean() # long term mean\n",
        "print('long term mean = '+str(np.round(mu,1))+' deg F')\n",
        "#\n",
        "X = df['JUL'].loc[2014:2023].mean() # last 10 year ave\n",
        "print('2014-2023 mean = '+str(np.round(X,1))+' deg F')\n",
        "#\n",
        "s = df['JUL'].loc[2014:2023].std() # last 10 year std\n",
        "print('2014-2023 stdev = '+str(np.round(s,1))+' deg F')\n",
        "#\n",
        "SE = s/np.sqrt(10-1) # SE of 10 year mean temp\n",
        "print('SE = '+str(np.round(SE,1))+'deg F')"
      ],
      "metadata": {
        "colab": {
          "base_uri": "https://localhost:8080/"
        },
        "id": "xnaUjIeGfQV8",
        "outputId": "fdab0983-4366-4121-b4fa-cefd0387177a"
      },
      "execution_count": 13,
      "outputs": [
        {
          "output_type": "stream",
          "name": "stdout",
          "text": [
            "long term mean = 73.1 deg F\n",
            "2014-2023 mean = 75.2 deg F\n",
            "2014-2023 stdev = 2.0 deg F\n",
            "SE = 0.7deg F\n"
          ]
        }
      ]
    },
    {
      "cell_type": "markdown",
      "source": [
        "### Step 1. State confidence level\n",
        "- We use 95% confidence level"
      ],
      "metadata": {
        "id": "1QnvQoGIhMtB"
      }
    },
    {
      "cell_type": "code",
      "source": [
        "CL = 95"
      ],
      "metadata": {
        "id": "-Bgy82OKf9fS"
      },
      "execution_count": 14,
      "outputs": []
    },
    {
      "cell_type": "markdown",
      "source": [
        "### Step 2. State null hypothesis and alternative hypothesis\n",
        "- H0: Last 10 years mean temperature (2014-2023) is NOT significantly warmer than long term mean temp.\n",
        "- H1: Last 10 years mean temperature (2014-2023) is significantly warmer than long term mean temp."
      ],
      "metadata": {
        "id": "xNXA1qaehhCw"
      }
    },
    {
      "cell_type": "markdown",
      "source": [
        "### Step 3. State statistics used.\n",
        "- We use t-distribution with one tail test."
      ],
      "metadata": {
        "id": "75E7RHy4h8B5"
      }
    },
    {
      "cell_type": "markdown",
      "source": [
        "### Step 4. Calculate the critical region."
      ],
      "metadata": {
        "id": "YkIzNYIhiM_Y"
      }
    },
    {
      "cell_type": "code",
      "source": [
        "alpha = 1 - CL/100\n",
        "tcrit = tdist.ppf(1-alpha,10-1)\n",
        "print('critical t-value is '+str(tcrit)[:4])"
      ],
      "metadata": {
        "colab": {
          "base_uri": "https://localhost:8080/"
        },
        "id": "GF66jFQFheIY",
        "outputId": "a3d6e737-4d58-4af1-f771-ea2e1fc20082"
      },
      "execution_count": 16,
      "outputs": [
        {
          "output_type": "stream",
          "name": "stdout",
          "text": [
            "critical t-value is 1.83\n"
          ]
        }
      ]
    },
    {
      "cell_type": "markdown",
      "source": [
        "### Step 5. Evaluate whether the data is within or outside of the critical region"
      ],
      "metadata": {
        "id": "ZhVdPgZ1hgHx"
      }
    },
    {
      "cell_type": "code",
      "source": [
        "tvalue = (X-mu)/SE\n",
        "print('t-value of the data is '+str(tvalue)[:4])"
      ],
      "metadata": {
        "colab": {
          "base_uri": "https://localhost:8080/"
        },
        "id": "4TQBEcOZi6L4",
        "outputId": "1abd395f-565b-489f-ae5e-22425664599a"
      },
      "execution_count": 18,
      "outputs": [
        {
          "output_type": "stream",
          "name": "stdout",
          "text": [
            "t-value of the data is 3.13\n"
          ]
        }
      ]
    },
    {
      "cell_type": "markdown",
      "source": [
        "The t-value of the data is larger than the critical t-value. We reject the null hypothesis."
      ],
      "metadata": {
        "id": "SwfdlJ-hjS33"
      }
    },
    {
      "cell_type": "code",
      "source": [],
      "metadata": {
        "id": "3TP0Ei-7jIIP"
      },
      "execution_count": null,
      "outputs": []
    }
  ]
}